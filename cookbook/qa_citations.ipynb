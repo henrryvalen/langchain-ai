{
 "cells": [
  {
   "cell_type": "markdown",
   "id": "9b5c258f",
   "metadata": {},
   "source": [
    "# Citing retrieval sources\n",
    "\n",
    "This notebook shows how to use OpenAI functions ability to extract citations from text."
   ]
  },
  {
   "cell_type": "code",
   "id": "eae4ca3e",
   "metadata": {
    "ExecuteTime": {
     "end_time": "2024-09-12T04:19:49.792611Z",
     "start_time": "2024-09-12T04:19:49.782642Z"
    }
   },
   "source": [
    "from langchain.chains import create_citation_fuzzy_match_runnable\n",
    "from langchain_openai import ChatOpenAI"
   ],
   "outputs": [],
   "execution_count": 8
  },
  {
   "cell_type": "code",
   "id": "2c6e62ee",
   "metadata": {
    "ExecuteTime": {
     "end_time": "2024-09-12T04:19:49.840006Z",
     "start_time": "2024-09-12T04:19:49.818979Z"
    }
   },
   "source": [
    "question = \"What did the author do during college?\"\n",
    "context = \"\"\"\n",
    "My name is Jason Liu, and I grew up in Toronto Canada but I was born in China.\n",
    "I went to an arts highschool but in university I studied Computational Mathematics and physics. \n",
    "As part of coop I worked at many companies including Stitchfix, Facebook.\n",
    "I also started the Data Science club at the University of Waterloo and I was the president of the club for 2 years.\n",
    "\"\"\""
   ],
   "outputs": [],
   "execution_count": 9
  },
  {
   "cell_type": "code",
   "id": "078e0300",
   "metadata": {
    "ExecuteTime": {
     "end_time": "2024-09-12T04:28:56.362811Z",
     "start_time": "2024-09-12T04:28:55.675641Z"
    }
   },
   "source": "llm = ChatOpenAI(temperature=0, model=\"gpt-3.5-turbo\")",
   "outputs": [],
   "execution_count": 15
  },
  {
   "cell_type": "code",
   "id": "02cad6d0",
   "metadata": {
    "ExecuteTime": {
     "end_time": "2024-09-12T04:28:58.094494Z",
     "start_time": "2024-09-12T04:28:58.065746Z"
    }
   },
   "source": "chain = create_citation_fuzzy_match_runnable(llm)",
   "outputs": [],
   "execution_count": 16
  },
  {
   "cell_type": "code",
   "id": "e3c6e7ba",
   "metadata": {
    "ExecuteTime": {
     "end_time": "2024-09-12T04:29:01.360967Z",
     "start_time": "2024-09-12T04:28:59.259097Z"
    }
   },
   "source": "result = chain.invoke({\"question\": question, \"context\": context})",
   "outputs": [],
   "execution_count": 17
  },
  {
   "cell_type": "code",
   "id": "6f7615f2",
   "metadata": {
    "ExecuteTime": {
     "end_time": "2024-09-12T04:29:04.752292Z",
     "start_time": "2024-09-12T04:29:04.745323Z"
    }
   },
   "source": [
    "print(result)"
   ],
   "outputs": [
    {
     "name": "stdout",
     "output_type": "stream",
     "text": [
      "question='What did the author do during college?' answer=[FactWithEvidence(fact='The author studied Computational Mathematics and physics in university.', substring_quote=['in university I studied Computational Mathematics and physics']), FactWithEvidence(fact='The author started the Data Science club at the University of Waterloo and was the president of the club for 2 years.', substring_quote=['I also started the Data Science club at the University of Waterloo and I was the president of the club for 2 years'])]\n"
     ]
    }
   ],
   "execution_count": 18
  },
  {
   "cell_type": "code",
   "id": "3be6f366",
   "metadata": {
    "ExecuteTime": {
     "end_time": "2024-09-12T04:29:11.567283Z",
     "start_time": "2024-09-12T04:29:11.536316Z"
    }
   },
   "source": [
    "def highlight(text, span):\n",
    "    return (\n",
    "        \"...\"\n",
    "        + text[span[0] - 20 : span[0]]\n",
    "        + \"*\"\n",
    "        + \"\\033[91m\"\n",
    "        + text[span[0] : span[1]]\n",
    "        + \"\\033[0m\"\n",
    "        + \"*\"\n",
    "        + text[span[1] : span[1] + 20]\n",
    "        + \"...\"\n",
    "    )"
   ],
   "outputs": [],
   "execution_count": 19
  },
  {
   "cell_type": "code",
   "id": "636c4528",
   "metadata": {
    "ExecuteTime": {
     "end_time": "2024-09-12T04:29:13.212818Z",
     "start_time": "2024-09-12T04:29:13.185602Z"
    }
   },
   "source": [
    "for fact in result.answer:\n",
    "    print(\"Statement:\", fact.fact)\n",
    "    for span in fact.get_spans(context):\n",
    "        print(\"Citation:\", highlight(context, span))\n",
    "    print()"
   ],
   "outputs": [
    {
     "name": "stdout",
     "output_type": "stream",
     "text": [
      "Statement: The author studied Computational Mathematics and physics in university.\n",
      "Citation: ...arts highschool but *\u001B[91min university I studied Computational Mathematics and physics\u001B[0m*. \n",
      "As part of coop I...\n",
      "\n",
      "Statement: The author started the Data Science club at the University of Waterloo and was the president of the club for 2 years.\n",
      "Citation: ...titchfix, Facebook.\n",
      "*\u001B[91mI also started the Data Science club at the University of Waterloo and I was the president of the club for 2 years\u001B[0m*.\n",
      "...\n",
      "\n"
     ]
    }
   ],
   "execution_count": 20
  },
  {
   "cell_type": "code",
   "execution_count": null,
   "id": "8409cab0",
   "metadata": {},
   "outputs": [],
   "source": []
  }
 ],
 "metadata": {
  "kernelspec": {
   "display_name": "Python 3 (ipykernel)",
   "language": "python",
   "name": "python3"
  },
  "language_info": {
   "codemirror_mode": {
    "name": "ipython",
    "version": 3
   },
   "file_extension": ".py",
   "mimetype": "text/x-python",
   "name": "python",
   "nbconvert_exporter": "python",
   "pygments_lexer": "ipython3",
   "version": "3.12.5"
  }
 },
 "nbformat": 4,
 "nbformat_minor": 5
}
