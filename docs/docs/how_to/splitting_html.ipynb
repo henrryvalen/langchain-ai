{
 "cells": [
  {
   "cell_type": "markdown",
   "id": "7fb27b941602401d91542211134fc71a",
   "metadata": {},
   "source": [
    "# How to: Splitting HTML"
   ]
  },
  {
   "cell_type": "markdown",
   "id": "acae54e37e7d407bbb7b55eff062a284",
   "metadata": {},
   "source": [
    "Splitting HTML documents into manageable chunks is essential for various text processing tasks such as natural language processing, search indexing, and more. In this guide, we will explore three different text splitters provided by LangChain that you can use to split HTML content effectively:\n",
    "\n",
    "- [**HTMLHeaderTextSplitter**](/docs/how_to/HTML_header_metadata_splitter)\n",
    "- [**HTMLSectionSplitter**](/docs/how_to/HTML_section_aware_splitter)\n",
    "- [**HTMLSemanticPreservingSplitter**](/docs/how_to/HTML_Semantic_Preserving_Splitter)\n",
    "\n",
    "Each of these splitters has unique features and use cases. This guide will help you understand the differences between them, why you might choose one over the others, and how to use them effectively.\n",
    "\n",
    "___"
   ]
  },
  {
   "cell_type": "markdown",
   "id": "9a63283cbaf04dbcab1f6479b197f3a8",
   "metadata": {},
   "source": [
    "## Overview of the Splitters"
   ]
  },
  {
   "cell_type": "markdown",
   "id": "8dd0d8092fe74a7c96281538738b07e2",
   "metadata": {},
   "source": [
    "### [HTMLHeaderTextSplitter](/docs/how_to/HTML_header_metadata_splitter)\n",
    "\n",
    ":::info\n",
    "Useful when you want to preserve the hierarchical structure of a document based on its headings.\n",
    ":::\n",
    "\n",
    "**Description**: Splits HTML text based on header tags (e.g., `<h1>`, `<h2>`, `<h3>`, etc.), and adds metadata for each header relevant to any given chunk.\n",
    "\n",
    "**Capabilities**:\n",
    "- Splits text at the HTML element level.\n",
    "- Preserves context-rich information encoded in document structures.\n",
    "- Can return chunks element by element or combine elements with the same metadata.\n",
    "\n",
    "___\n"
   ]
  },
  {
   "cell_type": "markdown",
   "id": "72eea5119410473aa328ad9291626812",
   "metadata": {},
   "source": [
    "### [HTMLSectionSplitter](/docs/how_to/HTML_section_aware_splitter)\n",
    "\n",
    ":::info \n",
    "Useful when you want to split HTML documents into larger sections, such as `<section>`, `<div>`, or custom-defined sections. \n",
    ":::\n",
    "\n",
    "**Description**: Similar to HTMLHeaderTextSplitter but focuses on splitting HTML into sections based on specified tags.\n",
    "\n",
    "**Capabilities**:\n",
    "- Uses XSLT transformations to detect and split sections.\n",
    "- Internally uses `RecursiveCharacterTextSplitter` for large sections.\n",
    "- Considers font sizes to determine sections.\n",
    "___"
   ]
  },
  {
   "cell_type": "markdown",
   "id": "8edb47106e1a46a883d545849b8ab81b",
   "metadata": {},
   "source": [
    "### [HTMLSemanticPreservingSplitter](/docs/how_to/HTML_Semantic_Preserving_Splitter)\n",
    "\n",
    ":::info \n",
    "Ideal when you need to ensure that structured elements are not split across chunks, preserving contextual relevancy. \n",
    ":::\n",
    "\n",
    "**Description**: Splits HTML content into manageable chunks while preserving the semantic structure of important elements like tables, lists, and other HTML components.\n",
    "\n",
    "**Capabilities**:\n",
    "- Preserves tables, lists, and other specified HTML elements.\n",
    "- Allows custom handlers for specific HTML tags.\n",
    "- Ensures that the semantic meaning of the document is maintained.\n",
    "- Built in normalization & stopword removal\n",
    "\n",
    "___"
   ]
  },
  {
   "cell_type": "markdown",
   "id": "10185d26023b46108eb7d9f57d49d2b3",
   "metadata": {},
   "source": [
    "## Choosing the Right Splitter\n",
    "\n",
    "- **Use `HTMLHeaderTextSplitter` when**: You need to split an HTML document based on its header hierarchy and maintain metadata about the headers.\n",
    "- **Use `HTMLSectionSplitter` when**: You need to split the document into larger, more general sections, possibly based on custom tags or font sizes.\n",
    "- **Use `HTMLSemanticPreservingSplitter` when**: You need to split the document into chunks while preserving semantic elements like tables and lists, ensuring that they are not split and that their context is maintained."
   ]
  },
  {
   "cell_type": "markdown",
   "id": "8763a12b2bbd4a93a75aff182afb95dc",
   "metadata": {},
   "source": [
    "## Example HTML Document\n",
    "\n",
    "Let's use the following HTML document as an example:"
   ]
  },
  {
   "cell_type": "code",
   "execution_count": 42,
   "id": "c9ca2682",
   "metadata": {},
   "outputs": [],
   "source": [
    "html_string = \"\"\"\n",
    "<!DOCTYPE html>\n",
    "  <html lang='en'>\n",
    "  <head>\n",
    "    <meta charset='UTF-8'>\n",
    "    <meta name='viewport' content='width=device-width, initial-scale=1.0'>\n",
    "    <title>Fancy Example HTML Page</title>\n",
    "  </head>\n",
    "  <body>\n",
    "    <h1>Main Title</h1>\n",
    "    <p>This is an introductory paragraph with some basic content.</p>\n",
    "    \n",
    "    <h2>Section 1: Introduction</h2>\n",
    "    <p>This section introduces the topic. Below is a list:</p>\n",
    "    <ul>\n",
    "      <li>First item</li>\n",
    "      <li>Second item</li>\n",
    "      <li>Third item with <strong>bold text</strong> and <a href='#'>a link</a></li>\n",
    "    </ul>\n",
    "    \n",
    "    <h3>Subsection 1.1: Details</h3>\n",
    "    <p>This subsection provides additional details. Here's a table:</p>\n",
    "    <table border='1'>\n",
    "      <thead>\n",
    "        <tr>\n",
    "          <th>Header 1</th>\n",
    "          <th>Header 2</th>\n",
    "          <th>Header 3</th>\n",
    "        </tr>\n",
    "      </thead>\n",
    "      <tbody>\n",
    "        <tr>\n",
    "          <td>Row 1, Cell 1</td>\n",
    "          <td>Row 1, Cell 2</td>\n",
    "          <td>Row 1, Cell 3</td>\n",
    "        </tr>\n",
    "        <tr>\n",
    "          <td>Row 2, Cell 1</td>\n",
    "          <td>Row 2, Cell 2</td>\n",
    "          <td>Row 2, Cell 3</td>\n",
    "        </tr>\n",
    "      </tbody>\n",
    "    </table>\n",
    "    \n",
    "    <h2>Section 2: Media Content</h2>\n",
    "    <p>This section contains an image and a video:</p>\n",
    "      <img src='example_image_link.mp4' alt='Example Image'>\n",
    "      <video controls width='250' src='example_video_link.mp4' type='video/mp4'>\n",
    "      Your browser does not support the video tag.\n",
    "    </video>\n",
    "\n",
    "    <h2>Section 3: Code Example</h2>\n",
    "    <p>This section contains a code block:</p>\n",
    "    <pre><code data-lang=\"html\">\n",
    "    &lt;div&gt;\n",
    "      &lt;p&gt;This is a paragraph inside a div.&lt;/p&gt;\n",
    "    &lt;/div&gt;\n",
    "    </code></pre>\n",
    "\n",
    "    <h2>Conclusion</h2>\n",
    "    <p>This is the conclusion of the document.</p>\n",
    "  </body>\n",
    "  </html>\n",
    "\"\"\""
   ]
  },
  {
   "cell_type": "markdown",
   "id": "a48a1bb3",
   "metadata": {},
   "source": [
    "## Splitting the HTML Document with Each Splitter"
   ]
  },
  {
   "cell_type": "markdown",
   "id": "86c25b86",
   "metadata": {},
   "source": [
    "### Using HTMLHeaderTextSplitter"
   ]
  },
  {
   "cell_type": "code",
   "execution_count": 43,
   "id": "23361e55",
   "metadata": {},
   "outputs": [
    {
     "data": {
      "text/plain": [
       "[Document(metadata={'Header 1': 'Main Title'}, page_content='This is an introductory paragraph with some basic content.'),\n",
       " Document(metadata={'Header 1': 'Main Title', 'Header 2': 'Section 1: Introduction'}, page_content='This section introduces the topic. Below is a list:  \\nFirst item Second item Third item with bold text and a link'),\n",
       " Document(metadata={'Header 1': 'Main Title', 'Header 2': 'Section 1: Introduction', 'Header 3': 'Subsection 1.1: Details'}, page_content=\"This subsection provides additional details. Here's a table:\"),\n",
       " Document(metadata={'Header 1': 'Main Title', 'Header 2': 'Section 2: Media Content'}, page_content='This section contains an image and a video:'),\n",
       " Document(metadata={'Header 1': 'Main Title', 'Header 2': 'Section 3: Code Example'}, page_content='This section contains a code block:'),\n",
       " Document(metadata={'Header 1': 'Main Title', 'Header 2': 'Conclusion'}, page_content='This is the conclusion of the document.')]"
      ]
     },
     "execution_count": 43,
     "metadata": {},
     "output_type": "execute_result"
    }
   ],
   "source": [
    "from langchain_text_splitters import HTMLHeaderTextSplitter\n",
    "\n",
    "headers_to_split_on = [\n",
    "    (\"h1\", \"Header 1\"),\n",
    "    (\"h2\", \"Header 2\"),\n",
    "    (\"h3\", \"Header 3\"),\n",
    "]\n",
    "\n",
    "html_splitter = HTMLHeaderTextSplitter(headers_to_split_on)\n",
    "html_header_splits = html_splitter.split_text(html_string)\n",
    "html_header_splits"
   ]
  },
  {
   "cell_type": "markdown",
   "id": "aa8ba422",
   "metadata": {},
   "source": [
    "### Using HTMLSectionSplitter"
   ]
  },
  {
   "cell_type": "code",
   "execution_count": 44,
   "id": "65376c86",
   "metadata": {},
   "outputs": [
    {
     "data": {
      "text/plain": [
       "[Document(metadata={'Header 1': 'Main Title'}, page_content='Main Title \\n This is an introductory paragraph with some basic content.'),\n",
       " Document(metadata={'Header 2': 'Section 1: Introduction'}, page_content=\"Section 1: Introduction \\n This section introduces the topic. Below is a list: \\n \\n First item \\n Second item \\n Third item with  bold text  and  a link \\n \\n \\n Subsection 1.1: Details \\n This subsection provides additional details. Here's a table: \\n \\n \\n \\n Header 1 \\n Header 2 \\n Header 3 \\n \\n \\n \\n \\n Row 1, Cell 1 \\n Row 1, Cell 2 \\n Row 1, Cell 3 \\n \\n \\n Row 2, Cell 1 \\n Row 2, Cell 2 \\n Row 2, Cell 3\"),\n",
       " Document(metadata={'Header 2': 'Section 2: Media Content'}, page_content='Section 2: Media Content \\n This section contains an image and a video: \\n \\n \\n      Your browser does not support the video tag.'),\n",
       " Document(metadata={'Header 2': 'Section 3: Code Example'}, page_content='Section 3: Code Example \\n This section contains a code block: \\n \\n    <div>\\n      <p>This is a paragraph inside a div.</p>\\n    </div>'),\n",
       " Document(metadata={'Header 2': 'Conclusion'}, page_content='Conclusion \\n This is the conclusion of the document.')]"
      ]
     },
     "execution_count": 44,
     "metadata": {},
     "output_type": "execute_result"
    }
   ],
   "source": [
    "from langchain_text_splitters import HTMLSectionSplitter\n",
    "\n",
    "headers_to_split_on = [\n",
    "    (\"h1\", \"Header 1\"),\n",
    "    (\"h2\", \"Header 2\"),\n",
    "]\n",
    "\n",
    "html_splitter = HTMLSectionSplitter(headers_to_split_on)\n",
    "html_header_splits = html_splitter.split_text(html_string)\n",
    "html_header_splits"
   ]
  },
  {
   "cell_type": "markdown",
   "id": "6fb9f81a",
   "metadata": {},
   "source": [
    "### Using HTMLSemanticPreservingSplitter\n",
    "\n",
    ":::info \n",
    "\n",
    "Notes:\n",
    "\n",
    "1. We have defined a custom handler to re-format the contents of code blocks\n",
    "2. We defined a deny list for specific html elements, to decompose them and their contents pre-processing\n",
    "3. We have intentionally set a small chunk size to demonstrate the non-splitting of elements\n",
    "\n",
    ":::"
   ]
  },
  {
   "cell_type": "code",
   "execution_count": 45,
   "id": "e161df1a",
   "metadata": {},
   "outputs": [
    {
     "data": {
      "text/plain": [
       "[Document(metadata={'Header 1': 'Main Title'}, page_content='This is an introductory paragraph with some basic content.'),\n",
       " Document(metadata={'Header 2': 'Section 1: Introduction'}, page_content='This section introduces the topic'),\n",
       " Document(metadata={'Header 2': 'Section 1: Introduction'}, page_content='. Below is a list: First item Second item Third item with bold text and a link Subsection 1.1: Details This subsection provides additional details'),\n",
       " Document(metadata={'Header 2': 'Section 1: Introduction'}, page_content=\". Here's a table: Header 1 Header 2 Header 3 Row 1, Cell 1 Row 1, Cell 2 Row 1, Cell 3 Row 2, Cell 1 Row 2, Cell 2 Row 2, Cell 3\"),\n",
       " Document(metadata={'Header 2': 'Section 2: Media Content'}, page_content='This section contains an image and a video: ![image:example_image_link.mp4](example_image_link.mp4) ![video:example_video_link.mp4](example_video_link.mp4)'),\n",
       " Document(metadata={'Header 2': 'Section 3: Code Example'}, page_content='This section contains a code block: <code:html> <div> <p>This is a paragraph inside a div.</p> </div> </code>'),\n",
       " Document(metadata={'Header 2': 'Conclusion'}, page_content='This is the conclusion of the document.')]"
      ]
     },
     "execution_count": 45,
     "metadata": {},
     "output_type": "execute_result"
    }
   ],
   "source": [
    "# BeautifulSoup is required to use the custom handlers\n",
    "from bs4 import Tag\n",
    "from langchain_text_splitters import HTMLSemanticPreservingSplitter\n",
    "\n",
    "headers_to_split_on = [\n",
    "    (\"h1\", \"Header 1\"),\n",
    "    (\"h2\", \"Header 2\"),\n",
    "]\n",
    "\n",
    "\n",
    "def code_handler(element: Tag) -> str:\n",
    "    data_lang = element.get(\"data-lang\")\n",
    "    code_format = f\"<code:{data_lang}>{element.get_text()}</code>\"\n",
    "\n",
    "    return code_format\n",
    "\n",
    "\n",
    "splitter = HTMLSemanticPreservingSplitter(\n",
    "    headers_to_split_on=headers_to_split_on,\n",
    "    separators=[\"\\n\\n\", \"\\n\", \". \", \"! \", \"? \"],\n",
    "    max_chunk_size=50,\n",
    "    preserve_images=True,\n",
    "    preserve_videos=True,\n",
    "    elements_to_preserve=[\"table\", \"ul\", \"ol\", \"code\"],\n",
    "    denylist_tags=[\"script\", \"style\", \"head\"],\n",
    "    custom_handlers={\"code\": code_handler},\n",
    ")\n",
    "\n",
    "documents = splitter.split_text(html_string)\n",
    "documents"
   ]
  },
  {
   "cell_type": "markdown",
   "id": "56d14a49",
   "metadata": {},
   "source": [
    "## Comparison Table\n",
    "\n",
    "| Feature | HTMLHeaderTextSplitter | HTMLSectionSplitter | HTMLSemanticPreservingSplitter |\n",
    "|--------------------------------------------|------------------------|---------------------|-------------------------------|\n",
    "| Splits based on headers | Yes | Yes | Yes |\n",
    "| Preserves semantic elements (tables, lists) | No | No | Yes |\n",
    "| Adds metadata for headers | Yes | Yes | Yes |\n",
    "| Custom handlers for HTML tags | No | No | Yes |\n",
    "| Preserves media (images, videos) | No | No | Yes |\n",
    "| Considers font sizes | No | Yes | No |\n",
    "| Uses XSLT transformations | No | Yes | No |"
   ]
  }
 ],
 "metadata": {
  "kernelspec": {
   "display_name": "Python 3",
   "language": "python",
   "name": "python3"
  },
  "language_info": {
   "codemirror_mode": {
    "name": "ipython",
    "version": 3
   },
   "file_extension": ".py",
   "mimetype": "text/x-python",
   "name": "python",
   "nbconvert_exporter": "python",
   "pygments_lexer": "ipython3",
   "version": "3.12.5"
  }
 },
 "nbformat": 4,
 "nbformat_minor": 5
}
