{
 "cells": [
  {
   "cell_type": "markdown",
   "metadata": {},
   "source": [
    "# Sineps Intent Router\n",
    "\n",
    ">[Sineps](https://sineps.io) provides fast and cost-effective NLP models. [Intent Router](https://sineps.io/intent-router) is a model that classifies the intent of the user's query and outputs the appropriate route. In langchain, the Intent Router is implemented as a `SinepsIntentRouterChain`.\n",
    "\n",
    "In the walkthrough, we'll demo the `SinepsIntentRouterChain` with a simple example."
   ]
  },
  {
   "cell_type": "markdown",
   "metadata": {},
   "source": [
    "## Setup\n",
    "\n",
    "You will need to have an API key to use Sineps. You can get one [here](https://platform.sineps.io/)."
   ]
  },
  {
   "cell_type": "code",
   "execution_count": 2,
   "metadata": {},
   "outputs": [],
   "source": [
    "import os\n",
    "import getpass\n",
    "\n",
    "os.environ[\"SINEPS_API_KEY\"] = getpass.getpass(\"Sineps API Key:\")"
   ]
  },
  {
   "cell_type": "markdown",
   "metadata": {},
   "source": [
    "## Usage\n",
    "\n",
    "You can use the `SinepsIntentRouterChain` like the following:"
   ]
  },
  {
   "cell_type": "code",
   "execution_count": 3,
   "metadata": {},
   "outputs": [
    {
     "name": "stdout",
     "output_type": "stream",
     "text": [
      "computer_science\n"
     ]
    }
   ],
   "source": [
    "from langchain_community.chains.sineps.intent_router import (\n",
    "    SinepsIntentRouterChain,\n",
    "    Route,\n",
    ")\n",
    "\n",
    "routes = [\n",
    "    Route(\n",
    "        key=\"mathematics\",\n",
    "        name=\"mathematics\",\n",
    "        description=\"Assign queries to this route when they are related to mathematics.\",\n",
    "        utterances=[\n",
    "            \"What is the Pythagorean theorem?\",\n",
    "            \"Can you explain the concept of integrals?\",\n",
    "            \"What are the different types of symmetry in geometry?\",\n",
    "        ],\n",
    "    ),\n",
    "    Route(\n",
    "        key=\"computer_science\",\n",
    "        name=\"computer_science\",\n",
    "        description=\"Assign queries to this route when they are related to computer science.\",\n",
    "        utterances=[\n",
    "            \"What is the difference between Java and Python?\",\n",
    "            \"How does deep learning work?\",\n",
    "            \"What are the main principles of object-oriented programming?\",\n",
    "        ],\n",
    "    ),\n",
    "    Route(\n",
    "        key=\"biology\",\n",
    "        name=\"biology\",\n",
    "        description=\"Assign queries to this route when they are related to biology.\",\n",
    "        utterances=[\n",
    "            \"How do photosynthesis and cellular respiration differ?\",\n",
    "            \"What is the structure of a DNA molecule?\",\n",
    "            \"How do ecosystems maintain balance?\",\n",
    "        ],\n",
    "    ),\n",
    "]\n",
    "\n",
    "chain = SinepsIntentRouterChain(routes=routes, allow_none=True)\n",
    "output = chain.invoke({\"query\": \"How do neural networks work in machine learning?\"})\n",
    "print(output[\"key\"])  # Output: computer_science"
   ]
  }
 ],
 "metadata": {
  "kernelspec": {
   "display_name": "Python 3 (ipykernel)",
   "language": "python",
   "name": "python3"
  },
  "language_info": {
   "codemirror_mode": {
    "name": "ipython",
    "version": 3
   },
   "file_extension": ".py",
   "mimetype": "text/x-python",
   "name": "python",
   "nbconvert_exporter": "python",
   "pygments_lexer": "ipython3",
   "version": "3.9.19"
  }
 },
 "nbformat": 4,
 "nbformat_minor": 4
}
