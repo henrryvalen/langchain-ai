{
 "cells": [
  {
   "cell_type": "raw",
   "id": "afaf8039",
   "metadata": {},
   "source": [
    "---\n",
    "sidebar_label: Naver\n",
    "---"
   ]
  },
  {
   "cell_type": "markdown",
   "id": "e49f1e0d",
   "metadata": {},
   "source": [
    "# ChatClovaX\n",
    "\n",
    "This notebook provides a quick overview for getting started with Naver’s HyperCLOVA X [chat models](https://python.langchain.com/v0.2/docs/concepts/#chat-models) via CLOVA Studio. For detailed documentation of all ChatClovaX features and configurations head to the [API reference](https://api.python.langchain.com/en/latest/community/chat_models/langchain_community.chat_models.naver.ChatClovaX.html).\n",
    "\n",
    "CLOVA Studio has several chat models. You can find information about latest models and their costs, context windows, and supported input types in the CLOVA Studio API Guide [documentation](https://api.ncloud-docs.com/docs/clovastudio-chatcompletions).\n",
    "\n",
    "## Overview\n",
    "### Integration details\n",
    "\n",
    "| Class | Package | Local | Serializable | [JS support](https://js.langchain.com/v0.2/docs/integrations/chat/naver) | Package downloads | Package latest |\n",
    "| :--- | :--- |:-----:| :---: |:------------------------------------------------------------------------:| :---: | :---: |\n",
    "| [ChatClovaX](https://api.python.langchain.com/en/latest/chat_models/langchain_community.chat_models.naver.ChatClovaX.html) | [langchain-community](https://api.python.langchain.com/en/latest/community_api_reference.html) |   ❌   | beta/❌ |                                    ❌                                     | ![PyPI - Downloads](https://img.shields.io/pypi/dm/langchain-naver?style=flat-square&label=%20) | ![PyPI - Version](https://img.shields.io/pypi/v/langchain-naver?style=flat-square&label=%20) |\n",
    "\n",
    "### Model features\n",
    "| [Tool calling](/docs/how_to/tool_calling/) | [Structured output](/docs/how_to/structured_output/) | JSON mode | [Image input](/docs/how_to/multimodal_inputs/) | Audio input | Video input | [Token-level streaming](/docs/how_to/chat_streaming/) | Native async | [Token usage](/docs/how_to/chat_token_usage_tracking/) | [Logprobs](/docs/how_to/logprobs/) |\n",
    "|:------------------------------------------:| :---: | :---: | :---: |  :---: | :---: |:-----------------------------------------------------:| :---: |:------------------------------------------------------:|:----------------------------------:|\n",
    "|❌| ❌ | ❌ | ❌ | ❌ | ❌ |                          ✅                            | ✅ |                           ✅                            |                 ❌                  | \n",
    "\n",
    "## Setup\n",
    "\n",
    "Before using the chat model, you must go through the three steps below.\n",
    "\n",
    "1. Creating [NAVER Cloud Platform](https://www.ncloud.com/) account \n",
    "2. Apply to use [CLOVA Studio](https://www.ncloud.com/product/aiService/clovaStudio)\n",
    "3. Find API Keys after creating CLOVA Studio Test App or Service App (See [here](https://guide.ncloud-docs.com/docs/en/clovastudio-playground01#테스트앱생성).)\n",
    "\n",
    "### Credentials\n",
    "\n",
    "CLOVA Studio requires 2 keys (`NCP_CLOVASTUDIO_API_KEY` and `NCP_APIGW_API_KEY`).\n",
    "  - `NCP_CLOVASTUDIO_API_KEY` is issued per Test App or Service App\n",
    "  - `NCP_APIGW_API_KEY` is issued per account, could be optional depending on the region you are using\n",
    "\n",
    "The two API Keys could be found by clicking `App Request Status` > `Service App, Test App List` > `‘Details’ button for each app` in [CLOVA Studio](https://clovastudio.ncloud.com/studio-application/service-app)"
   ]
  },
  {
   "cell_type": "code",
   "execution_count": null,
   "id": "2def81b5-b023-4f40-a97b-b2c5ca59d6a9",
   "metadata": {},
   "outputs": [],
   "source": [
    "import getpass\n",
    "import os\n",
    "\n",
    "os.environ[\"NCP_CLOVASTUDIO_API_KEY\"] = getpass.getpass(\"NCP CLOVA Studio API Key: \")\n",
    "os.environ[\"NCP_APIGW_API_KEY\"] = getpass.getpass(\"NCP API Gateway API Key: \")"
   ]
  },
  {
   "cell_type": "markdown",
   "id": "17bf9053-90c5-4955-b239-55a35cb07566",
   "metadata": {},
   "source": [
    "### Installation\n",
    "\n",
    "The LangChain Naver integration lives in the `langchain-community` package:"
   ]
  },
  {
   "cell_type": "code",
   "execution_count": null,
   "id": "a15d341e-3e26-4ca3-830b-5aab30ed66de",
   "metadata": {},
   "outputs": [],
   "source": [
    "# install package\n",
    "!pip install -qU langchain-community"
   ]
  },
  {
   "cell_type": "markdown",
   "id": "a38cde65-254d-4219-a441-068766c0d4b5",
   "metadata": {},
   "source": [
    "## Instantiation\n",
    "\n",
    "Now we can instantiate our model object and generate chat completions:"
   ]
  },
  {
   "cell_type": "code",
   "execution_count": 11,
   "id": "cb09c344-1836-4e0c-acf8-11d13ac1dbae",
   "metadata": {},
   "outputs": [],
   "source": [
    "from langchain_community.chat_models import ChatClovaX\n",
    "\n",
    "chat = ChatClovaX(\n",
    "    model=\"HCX-DASH-001\",\n",
    "    temperature=0.5,\n",
    "    max_tokens=None,\n",
    "    max_retries=2,\n",
    "    # clovastudio_api_key=\"...\"    # if you prefer to pass api key in directly instead of using env vars\n",
    "    # task_id=\"...\"    # if you want to use fine-tuned model\n",
    "    # service_app=False    # True if using Service App. Default value is False (means using Test App)\n",
    "    # include_ai_filters=False     # True if you want to detect inappropriate content. Default value is False\n",
    "    # other params...\n",
    ")"
   ]
  },
  {
   "cell_type": "markdown",
   "id": "2b4f3e15",
   "metadata": {},
   "source": [
    "## Usage\n",
    "\n",
    "`ChatClovaX` supports all `invoke`, `batch`, `stream` methods of [`ChatModel`](/docs/how_to#chat-models) including async APIs."
   ]
  },
  {
   "cell_type": "code",
   "execution_count": 14,
   "id": "62e0dbc3",
   "metadata": {
    "tags": []
   },
   "outputs": [],
   "source": [
    "messages = [\n",
    "    (\n",
    "        \"system\",\n",
    "        \"You are a helpful assistant that translates English to Korean. Translate the user sentence.\",\n",
    "    ),\n",
    "    (\"human\", \"I love using NAVER AI.\"),\n",
    "]"
   ]
  },
  {
   "cell_type": "markdown",
   "id": "47752b59",
   "metadata": {},
   "source": [
    "## Invocation\n",
    "\n",
    "In addition to invoke, we also support batch and stream functionalities."
   ]
  },
  {
   "cell_type": "code",
   "execution_count": 15,
   "id": "d86145b3-bfef-46e8-b227-4dda5c9c2705",
   "metadata": {},
   "outputs": [
    {
     "data": {
      "text/plain": [
       "AIMessage(content='저는 NAVER AI를 사용하는 것이 너무 좋아요.', response_metadata={'stop_reason': 'stop_before', 'input_length': 25, 'output_length': 15, 'seed': 1655372866, 'ai_filter': None}, id='run-412be878-f8a2-4917-ad71-f23ee250771a-0')"
      ]
     },
     "execution_count": 15,
     "metadata": {},
     "output_type": "execute_result"
    }
   ],
   "source": [
    "#using invoke\n",
    "chat.invoke(messages)"
   ]
  },
  {
   "cell_type": "code",
   "execution_count": 13,
   "id": "876d2c2a-1b29-4b9e-92ed-381223c9439f",
   "metadata": {},
   "outputs": [
    {
     "data": {
      "text/plain": [
       "[AIMessage(content='나는 NAVER AI를 사용하는 것이 좋아요.', response_metadata={'stop_reason': 'stop_before', 'input_length': 25, 'output_length': 13, 'seed': 1938804380, 'ai_filter': None}, id='run-b5349497-a959-4ab9-a3b0-28483b0f223d-0'),\n",
       " AIMessage(content='나는 NAVER AI를 사용하는 것이 좋아요.', response_metadata={'stop_reason': 'stop_before', 'input_length': 25, 'output_length': 13, 'seed': 2603129649, 'ai_filter': None}, id='run-ab428833-d6b4-43d8-8342-d034ed6c6447-0')]"
      ]
     },
     "execution_count": 13,
     "metadata": {},
     "output_type": "execute_result"
    }
   ],
   "source": [
    "#using batch\n",
    "chat.batch([messages, messages])"
   ]
  },
  {
   "cell_type": "code",
   "execution_count": null,
   "id": "2c07af21-dda5-4514-b4de-1f214c2cebcd",
   "metadata": {},
   "outputs": [],
   "source": [
    "#using stream\n",
    "for chunk in chat.stream(messages):\n",
    "    print(chunk.content, end=\"\", flush=True)"
   ]
  },
  {
   "cell_type": "markdown",
   "id": "18e2bfc0-7e78-4528-a73f-499ac150dca8",
   "metadata": {},
   "source": [
    "## Chaining\n",
    "\n",
    "We can [chain](/docs/how_to/sequence/) our model with a prompt template like so:"
   ]
  },
  {
   "cell_type": "code",
   "execution_count": 4,
   "id": "e197d1d7-a070-4c96-9f8a-a0e86d046e0b",
   "metadata": {},
   "outputs": [
    {
     "data": {
      "text/plain": [
       "AIMessage(content='나는 NAVER AI를 사용하는 것이 좋아요.', response_metadata={'stop_reason': 'stop_before', 'input_length': 25, 'output_length': 13, 'seed': 4065547179, 'ai_filter': None}, id='run-2662b461-382e-4aac-a59f-8cb824b8cc51-0', usage_metadata={'input_tokens': 25, 'output_tokens': 13, 'total_tokens': 38})"
      ]
     },
     "execution_count": 4,
     "metadata": {},
     "output_type": "execute_result"
    }
   ],
   "source": [
    "from langchain_core.prompts import ChatPromptTemplate\n",
    "\n",
    "prompt = ChatPromptTemplate.from_messages(\n",
    "    [\n",
    "        (\n",
    "            \"system\",\n",
    "            \"You are a helpful assistant that translates {input_language} to {output_language}. Translate the user sentence.\",\n",
    "        ),\n",
    "        (\n",
    "            \"human\", \n",
    "            \"{input}\"\n",
    "        ),\n",
    "    ]\n",
    ")\n",
    "\n",
    "chain = prompt | chat\n",
    "chain.invoke(\n",
    "    {\n",
    "        \"input_language\": \"English\",\n",
    "        \"output_language\": \"Korean\",\n",
    "        \"input\": \"I love using NAVER AI.\",\n",
    "    }\n",
    ")"
   ]
  },
  {
   "cell_type": "markdown",
   "id": "d1ee55bc-ffc8-4cfa-801c-993953a08cfd",
   "metadata": {},
   "source": [
    "## Additional functionalities\n",
    "\n",
    "### Fine-tuning\n",
    "\n",
    "You can call fine-tuned CLOVA X models by passing in your corresponding `task_id` parameter. (You don’t need to specify the model_name parameter when calling fine-tuned model.)\n",
    "\n",
    "You can check `task_id` from corresponding Test App or Service App details."
   ]
  },
  {
   "cell_type": "code",
   "execution_count": null,
   "id": "cb436788",
   "metadata": {},
   "outputs": [],
   "source": [
    "fine_tuned_model = ChatClovaX(\n",
    "    task_id='abcd123e',\n",
    "    temperature=0.5,\n",
    ")\n",
    "\n",
    "fine_tuned_model.invoke(messages)"
   ]
  },
  {
   "cell_type": "markdown",
   "id": "f428deaf",
   "metadata": {},
   "source": [
    "### Service App\n",
    "\n",
    "When going live with production-level application using CLOVA Studio, you should apply for and use Service App. (See [here](https://guide.ncloud-docs.com/docs/en/clovastudio-playground01#서비스앱신청).)\n",
    "\n",
    "For a Service App, a corresponding `NCP_CLOVASTUDIO_API_KEY` is issued and can only be called with the API Key."
   ]
  },
  {
   "cell_type": "code",
   "execution_count": null,
   "id": "dcf566df",
   "metadata": {},
   "outputs": [],
   "source": [
    "#### Update environment variables\n",
    "\n",
    "os.environ[\"NCP_CLOVASTUDIO_API_KEY\"] = getpass.getpass(\"NCP CLOVA Studio API Key for Service App: \")"
   ]
  },
  {
   "cell_type": "code",
   "execution_count": 8,
   "id": "cebe27ae",
   "metadata": {},
   "outputs": [],
   "source": [
    "chat = ChatClovaX(\n",
    "    service_app=True, # True if you want to use your service app, default value is False.\n",
    "    # clovastudio_api_key=\"...\"  # if you prefer to pass api key in directly instead of using env vars\n",
    "    model=\"HCX-DASH-001\",\n",
    "    temperature=0.5,\n",
    "    max_tokens=None,\n",
    "    max_retries=2,\n",
    "    # other params...\n",
    ")\n",
    "ai_msg = chat.invoke(messages)"
   ]
  },
  {
   "cell_type": "markdown",
   "id": "d73e7140",
   "metadata": {},
   "source": [
    "### AI Filter\n",
    "\n",
    "AI Filter detects inappropriate output such as profanity from the test app (or service app included) created in Playground and informs the user. See [here](https://guide.ncloud-docs.com/docs/en/clovastudio-playground01#AIFilter) for details. "
   ]
  },
  {
   "cell_type": "code",
   "execution_count": null,
   "id": "32bfbc93",
   "metadata": {},
   "outputs": [],
   "source": [
    "chat = ChatClovaX(\n",
    "    model=\"HCX-DASH-001\",\n",
    "    temperature=0.5,\n",
    "    max_tokens=None,\n",
    "    max_retries=2,\n",
    "    include_ai_filters=True, # True if you want to enabled ai filter\n",
    "    # other params...\n",
    ")\n",
    "\n",
    "ai_msg = chat.invoke(messages)"
   ]
  },
  {
   "cell_type": "code",
   "execution_count": null,
   "id": "7bd9e179",
   "metadata": {},
   "outputs": [],
   "source": [
    "print(ai_msg.response_metadata['ai_filter'])"
   ]
  },
  {
   "cell_type": "markdown",
   "id": "3a5bb5ca-c3ae-4a58-be67-2cd18574b9a3",
   "metadata": {},
   "source": [
    "## API reference\n",
    "\n",
    "For detailed documentation of all ChatNaver features and configurations head to the API reference: https://api.python.langchain.com/en/latest/community/chat_models/langchain_community.chat_models.naver.ChatClovaX.html"
   ]
  }
 ],
 "metadata": {
  "kernelspec": {
   "display_name": "Python 3 (ipykernel)",
   "language": "python",
   "name": "python3"
  },
  "language_info": {
   "codemirror_mode": {
    "name": "ipython",
    "version": 3
   },
   "file_extension": ".py",
   "mimetype": "text/x-python",
   "name": "python",
   "nbconvert_exporter": "python",
   "pygments_lexer": "ipython3",
   "version": "3.12.3"
  }
 },
 "nbformat": 4,
 "nbformat_minor": 5
}
