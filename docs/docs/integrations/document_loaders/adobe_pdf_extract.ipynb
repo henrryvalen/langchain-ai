{
 "cells": [
  {
   "attachments": {},
   "cell_type": "markdown",
   "metadata": {},
   "source": [
    "# Adobe PDF Extract API"
   ]
  },
  {
   "attachments": {},
   "cell_type": "markdown",
   "metadata": {},
   "source": [
    "> [Adobe PDF Extract API](https://developer.adobe.com/document-services/apis/pdf-extract/) is a machine-learning based service that extracts content from `PDF` files, including text, images, tables, and more.\n",
    ">\n",
    "> This current implementation of a loader using `Adobe PDF Extract API` can either incorporate content as one document in `JSON` format, split it into chunks (optimized for RAG), or extract only figures and tables.\n",
    "\n",
    "Figures are represented as placeholders inside the generated chunks with the base64 encoded image contained in the metadata. If you want to incorporate with an LLM that supports vision, you can split the message at its placeholder and insert the image as a separate message.\n",
    "\n",
    "Extracted tables are formatted in markdown, and figures are extracted as base64 encoded images. \n"
   ]
  },
  {
   "cell_type": "markdown",
   "metadata": {},
   "source": [
    "## Setup\n",
    "\n",
    "Adobe PDF Extraction API credentials - follow [this document](https://developer.adobe.com/document-services/apis/pdf-extract/) to get one if you don't have. You will be passing `<client_id>` and `<client_secret>` as parameters to the loader."
   ]
  },
  {
   "cell_type": "code",
   "execution_count": null,
   "metadata": {},
   "outputs": [],
   "source": [
    "%pip install --upgrade --quiet  langchain langchain-community adobe-pdf-extraction"
   ]
  },
  {
   "attachments": {},
   "cell_type": "markdown",
   "metadata": {},
   "source": [
    "## \"chunk\" mode"
   ]
  },
  {
   "attachments": {},
   "cell_type": "markdown",
   "metadata": {},
   "source": [
    "The first example uses a local file which will be sent to Adobe PDF Extract API."
   ]
  },
  {
   "attachments": {},
   "cell_type": "markdown",
   "metadata": {},
   "source": [
    "With the initialized document analysis client, we can proceed to create an instance of the DocumentIntelligenceLoader:"
   ]
  },
  {
   "cell_type": "code",
   "execution_count": null,
   "metadata": {},
   "outputs": [],
   "source": [
    "from langchain_community.document_loaders import GenericLoader\n",
    "from langchain_community.document_loaders.parsers import AdobePDFExtractParser\n",
    "\n",
    "file_path = \"<filepath>\"\n",
    "client_id = \"<client_id>\"\n",
    "client_secret = \"<client_secret>\"\n",
    "\n",
    "parser = AdobePDFExtractParser(\n",
    "    client_id=client_id,\n",
    "    client_secret=client_secret,\n",
    "    mode=\"chunk\",\n",
    ")\n",
    "loader = GenericLoader.from_filesystem(file_path, parser=parser)\n",
    "\n",
    "documents = loader.load()"
   ]
  },
  {
   "attachments": {},
   "cell_type": "markdown",
   "metadata": {},
   "source": [
    "The output contains Documents with the extracted chunks."
   ]
  },
  {
   "cell_type": "code",
   "execution_count": null,
   "metadata": {},
   "outputs": [],
   "source": [
    "documents"
   ]
  },
  {
   "cell_type": "markdown",
   "metadata": {},
   "source": [
    "## \"json\" mode\n",
    "The extraction result can also be returned in raw JSON format."
   ]
  },
  {
   "cell_type": "code",
   "execution_count": null,
   "metadata": {},
   "outputs": [],
   "source": [
    "from langchain_community.document_loaders import GenericLoader\n",
    "from langchain_community.document_loaders.parsers import AdobePDFExtractParser\n",
    "\n",
    "file_path = \"<filepath>\"\n",
    "client_id = \"<client_id>\"\n",
    "client_secret = \"<client_secret>\"\n",
    "\n",
    "parser = AdobePDFExtractParser(\n",
    "    client_id=client_id,\n",
    "    client_secret=client_secret,\n",
    "    mode=\"json\",\n",
    ")\n",
    "\n",
    "loader = GenericLoader.from_filesystem(file_path, parser=parser)\n",
    "\n",
    "documents = loader.load()"
   ]
  },
  {
   "cell_type": "code",
   "execution_count": null,
   "metadata": {},
   "outputs": [],
   "source": [
    "documents"
   ]
  },
  {
   "cell_type": "markdown",
   "metadata": {},
   "source": [
    "## \"data\" mode\n",
    "To extract only figures and tables from the PDF, set the mode to `data`."
   ]
  },
  {
   "cell_type": "code",
   "execution_count": null,
   "metadata": {},
   "outputs": [],
   "source": [
    "from langchain_community.document_loaders import GenericLoader\n",
    "from langchain_community.document_loaders.parsers import AdobePDFExtractParser\n",
    "\n",
    "file_path = \"<filepath>\"\n",
    "client_id = \"<client_id>\"\n",
    "client_secret = \"<client_secret>\"\n",
    "\n",
    "parser = AdobePDFExtractParser(\n",
    "    client_id=client_id,\n",
    "    client_secret=client_secret,\n",
    "    mode=\"data\",\n",
    ")\n",
    "loader = GenericLoader.from_filesystem(file_path, parser=parser)\n",
    "\n",
    "documents = loader.load()"
   ]
  },
  {
   "cell_type": "markdown",
   "metadata": {},
   "source": [
    "The resulting output will be langchain documents with the extracted figures and tables."
   ]
  },
  {
   "cell_type": "code",
   "execution_count": null,
   "metadata": {},
   "outputs": [],
   "source": [
    "for document in documents:\n",
    "    if document.metadata[\"content_type\"] == \"markdown\":\n",
    "        print(f\"Table Content: {document.page_content}\")\n",
    "    elif document.metadata[\"content_type\"] == \"base64\":\n",
    "        print(f\"Figure Content: {document.page_content}\")"
   ]
  }
 ],
 "metadata": {
  "kernelspec": {
   "display_name": "Python 3 (ipykernel)",
   "language": "python",
   "name": "python3"
  },
  "language_info": {
   "codemirror_mode": {
    "name": "ipython",
    "version": 3
   },
   "file_extension": ".py",
   "mimetype": "text/x-python",
   "name": "python",
   "nbconvert_exporter": "python",
   "pygments_lexer": "ipython3",
   "version": "3.11.9"
  },
  "vscode": {
   "interpreter": {
    "hash": "f9f85f796d01129d0dd105a088854619f454435301f6ffec2fea96ecbd9be4ac"
   }
  }
 },
 "nbformat": 4,
 "nbformat_minor": 4
}
