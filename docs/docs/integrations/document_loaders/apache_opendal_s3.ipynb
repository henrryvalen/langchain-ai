{
 "cells": [
  {
   "metadata": {},
   "cell_type": "markdown",
   "source": [
    "---\n",
    "sidebar_label: Apache Opendal S3\n",
    "---"
   ],
   "id": "d735c6f3e1843b60"
  },
  {
   "metadata": {},
   "cell_type": "markdown",
   "source": [
    "# Apache Opendal S3\n",
    "\n",
    "The `UnstructuredApacheOpendalS3FileLoader` class is a document loader that loads documents from an S3 bucket using the Apache Opendal library. The loader is designed to work with the `unstructured` library and is compatible with the `unstructured` document processing pipeline.\n",
    "\n",
    "## Overview\n",
    "### Integration details\n",
    "\n",
    "| Class | Package | Local | Serializable | [JS support](https://js.langchain.com/v0.2/docs/integrations/document_loaders/web_loaders/recursive_url_loader/)|\n",
    "| :--- | :--- | :---: | :---: |  :---: |\n",
    "| [UnstructuredApacheOpendalS3FileLoader](https://python.langchain.com/v0.2/api_reference/community/document_loaders/langchain_community.document_loaders.apache_opendal_s3.UnstructuredApacheOpendalS3FileLoader.html) | [langchain_community](https://python.langchain.com/v0.2/api_reference/community/index.html) | ✅ | ❌ | ❌ | \n",
    "### Loader features\n",
    "|          Source           | Document Lazy Loading | Native Async Support |\n",
    "|:-------------------------:|:---------------------:|:--------------------:| \n",
    "| UnstructuredApacheOpendalS3FileLoader |           ✅           |          ❌           | \n"
   ],
   "id": "7ae421e6"
  },
  {
   "cell_type": "markdown",
   "id": "11b74bd459f5259f",
   "metadata": {},
   "source": [
    "## Setup\n",
    "\n",
    "### Credentials\n",
    "\n",
    "No credentials are required to use the `UnstructuredApacheOpendalS3FileLoader`.\n",
    "\n",
    "### Installation"
   ]
  },
  {
   "cell_type": "code",
   "execution_count": null,
   "id": "98aea00d",
   "metadata": {},
   "outputs": [],
   "source": [
    "%pip install --upgrade --quiet  opendal  unstructured"
   ]
  },
  {
   "cell_type": "markdown",
   "id": "a32603b996f5b4df",
   "metadata": {},
   "source": [
    "## Instantiation\n",
    "\n",
    "Now we can instantiate our document loader object and load Documents:"
   ]
  },
  {
   "cell_type": "code",
   "execution_count": 20,
   "id": "592483eb",
   "metadata": {
    "ExecuteTime": {
     "end_time": "2024-08-25T15:34:38.060280Z",
     "start_time": "2024-08-25T15:34:38.025964Z"
    }
   },
   "outputs": [],
   "source": [
    "from langchain_community.document_loaders.apache_opendal_s3 import (\n",
    "    UnstructuredApacheOpendalS3FileLoader,\n",
    ")"
   ]
  },
  {
   "cell_type": "code",
   "execution_count": 21,
   "id": "c12a7aff",
   "metadata": {
    "ExecuteTime": {
     "end_time": "2024-08-25T15:34:39.640401Z",
     "start_time": "2024-08-25T15:34:39.635450Z"
    }
   },
   "outputs": [],
   "source": [
    "key = \"data2.csv\"\n",
    "bucket = \"liugddx\"\n",
    "region_name = \"ap-northeast-1\""
   ]
  },
  {
   "cell_type": "code",
   "execution_count": 22,
   "id": "ccddd5a6",
   "metadata": {
    "ExecuteTime": {
     "end_time": "2024-08-25T15:34:53.529143Z",
     "start_time": "2024-08-25T15:34:53.520284Z"
    }
   },
   "outputs": [],
   "source": [
    "loader = UnstructuredApacheOpendalS3FileLoader(\n",
    "    key,\n",
    "    bucket,\n",
    "    region_name,\n",
    "    aws_access_key_id=\"xxx\",\n",
    "    aws_secret_access_key=\"xxx\",\n",
    ")"
   ]
  },
  {
   "cell_type": "markdown",
   "id": "6a62ec01c35e9c7",
   "metadata": {},
   "source": [
    "## Load\n",
    "\n",
    "Use ``.load()`` to load the documents from the S3 bucket. The loader will return a list of documents."
   ]
  },
  {
   "cell_type": "code",
   "execution_count": 23,
   "id": "8de5299fae9e5a06",
   "metadata": {
    "ExecuteTime": {
     "end_time": "2024-08-25T15:34:57.812217Z",
     "start_time": "2024-08-25T15:34:56.022561Z"
    }
   },
   "outputs": [
    {
     "name": "stderr",
     "output_type": "stream",
     "text": [
      "/Users/liugddx/code/langchain/.venv/lib/python3.10/site-packages/unstructured/partition/csv.py:84: ParserWarning: Falling back to the 'python' engine because the 'c' engine does not support sep=None with delim_whitespace=False; you can avoid this warning by specifying engine='python'.\n",
      "  dataframe = pd.read_csv(file, header=ctx.header, sep=ctx.delimiter)\n"
     ]
    }
   ],
   "source": [
    "docs = loader.load()"
   ]
  },
  {
   "cell_type": "markdown",
   "id": "ae76c25c",
   "metadata": {},
   "source": [
    "Returns each table row as `dict`."
   ]
  },
  {
   "cell_type": "code",
   "execution_count": 24,
   "id": "7abec7ce",
   "metadata": {
    "ExecuteTime": {
     "end_time": "2024-08-25T15:35:00.495839Z",
     "start_time": "2024-08-25T15:35:00.489859Z"
    },
    "scrolled": true
   },
   "outputs": [
    {
     "data": {
      "text/plain": [
       "1"
      ]
     },
     "execution_count": 24,
     "metadata": {},
     "output_type": "execute_result"
    }
   ],
   "source": [
    "len(docs)"
   ]
  },
  {
   "cell_type": "code",
   "execution_count": 25,
   "id": "403c95da",
   "metadata": {
    "ExecuteTime": {
     "end_time": "2024-08-25T15:35:01.792950Z",
     "start_time": "2024-08-25T15:35:01.789256Z"
    }
   },
   "outputs": [
    {
     "data": {
      "text/plain": [
       "'\\n\\n\\n\\nD\\n\\n\\nA10101010\\nNone\\n\\n\\n'"
      ]
     },
     "execution_count": 25,
     "metadata": {},
     "output_type": "execute_result"
    }
   ],
   "source": [
    "docs[0].page_content"
   ]
  },
  {
   "cell_type": "markdown",
   "id": "54b1409878c32096",
   "metadata": {},
   "source": [
    "## Lazy Load\n",
    "\n",
    "The `UnstructuredApacheOpendalS3FileLoader` supports lazy loading. This means that the documents are not loaded into memory until they are accessed. This can be useful when working with large documents."
   ]
  },
  {
   "cell_type": "code",
   "execution_count": 26,
   "id": "df634c3566038566",
   "metadata": {
    "ExecuteTime": {
     "end_time": "2024-08-25T15:35:05.433698Z",
     "start_time": "2024-08-25T15:35:03.849684Z"
    }
   },
   "outputs": [
    {
     "name": "stdout",
     "output_type": "stream",
     "text": [
      "\n",
      "\n",
      "\n",
      "\n",
      "D\n",
      "\n",
      "\n",
      "A10101010\n",
      "None\n"
     ]
    },
    {
     "name": "stderr",
     "output_type": "stream",
     "text": [
      "/Users/liugddx/code/langchain/.venv/lib/python3.10/site-packages/unstructured/partition/csv.py:84: ParserWarning: Falling back to the 'python' engine because the 'c' engine does not support sep=None with delim_whitespace=False; you can avoid this warning by specifying engine='python'.\n",
      "  dataframe = pd.read_csv(file, header=ctx.header, sep=ctx.delimiter)\n"
     ]
    }
   ],
   "source": [
    "for doc in loader.lazy_load():\n",
    "    print(doc.page_content)"
   ]
  },
  {
   "cell_type": "markdown",
   "id": "36ddec7ad59c7b23",
   "metadata": {},
   "source": []
  },
  {
   "cell_type": "markdown",
   "id": "22ccb0e2d75adad3",
   "metadata": {},
   "source": [
    "## API reference\n",
    "\n",
    "For further information, please refer to the [API reference](https://python.langchain.com/v0.2/api_reference/community/document_loaders/langchain_community.document_loaders.apache_opendal_s3.UnstructuredApacheOpendalS3FileLoader.html)."
   ]
  }
 ],
 "metadata": {
  "kernelspec": {
   "display_name": "Python 3 (ipykernel)",
   "language": "python",
   "name": "python3"
  },
  "language_info": {
   "codemirror_mode": {
    "name": "ipython",
    "version": 3
   },
   "file_extension": ".py",
   "mimetype": "text/x-python",
   "name": "python",
   "nbconvert_exporter": "python",
   "pygments_lexer": "ipython3",
   "version": "3.10.6"
  }
 },
 "nbformat": 4,
 "nbformat_minor": 5
}
