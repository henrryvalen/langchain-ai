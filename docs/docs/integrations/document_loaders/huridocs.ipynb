{
 "cells": [
  {
   "cell_type": "markdown",
   "id": "78e5947f-e2eb-4599-8fa0-ff07cfdfe103",
   "metadata": {},
   "source": [
    "# HuridocsPDFLoader\n",
    "\n",
    "Segments the PDF and returns a list of Document items where every item is a segment.  \n",
    "These segments contain detailed metadata about the PDF and its pages.\n",
    "\n",
    "This is an implementation of self-hosted [pdf-document-layout-analysis](https://github.com/huridocs/pdf-document-layout-analysis) service.\n",
    "\n",
    "## Overview\n",
    "### Integration details\n",
    "\n",
    "| Class | Package | Local | Serializable | JS support|\n",
    "| :--- | :--- | :---: | :---: |  :---: |\n",
    "| [HuridocsPDFLoader](https://api.python.langchain.com/en/latest/document_loaders/langchain_community.document_loaders.pdf.HuridocsPDFLoader.html) | [langchain_community](https://api.python.langchain.com/en/latest/community_api_reference.html) | ✅ | ❌ | ❌ | \n",
    "### Loader features\n",
    "| Source | Document Lazy Loading | Native Async Support\n",
    "| :---: | :---: | :---: | \n",
    "| HuridocsPDFLoader | ✅ | ❌ | \n",
    "\n",
    "## Setup\n",
    "\n",
    "### Credentials\n",
    "\n",
    "No credentials are needed to use this loader."
   ]
  },
  {
   "cell_type": "markdown",
   "id": "0c22295a-6fcd-4019-91cc-6b80f8d7a21b",
   "metadata": {},
   "source": [
    "If you want to get automated best in-class tracing of your model calls you can also set your [LangSmith](https://docs.smith.langchain.com/) API key by uncommenting below:"
   ]
  },
  {
   "cell_type": "code",
   "execution_count": null,
   "id": "2d81fcbd-3e7a-4004-bc0e-de241a17e3be",
   "metadata": {},
   "outputs": [],
   "source": [
    "# os.environ[\"LANGSMITH_API_KEY\"] = getpass.getpass(\"Enter your LangSmith API key: \")\n",
    "# os.environ[\"LANGSMITH_TRACING\"] = \"true\""
   ]
  },
  {
   "cell_type": "markdown",
   "id": "e5299dbb-6c86-4bf8-9f02-09324533be1e",
   "metadata": {},
   "source": [
    "### Installation\n",
    "\n",
    "Install **langchain_community**."
   ]
  },
  {
   "cell_type": "markdown",
   "id": "2ba194cc-ea21-47b1-8126-ab11a3f528d1",
   "metadata": {},
   "source": [
    "%pip install -qU langchain_community"
   ]
  },
  {
   "cell_type": "markdown",
   "id": "bbed0171-9154-49cd-98fd-7d09ea233346",
   "metadata": {},
   "source": [
    "To install and run the layout analysis service:"
   ]
  },
  {
   "cell_type": "code",
   "execution_count": null,
   "id": "6fbd66b5-0759-4c14-880b-41e9e9b03d35",
   "metadata": {},
   "outputs": [],
   "source": [
    "!git clone http://github.com/huridocs/pdf-document-layout-analysis.git\n",
    "%cd pdf-document-layout-analysis\n",
    "!make start"
   ]
  },
  {
   "cell_type": "markdown",
   "id": "21d0c0a0-a22d-4adf-8e4d-239073d59fab",
   "metadata": {},
   "source": [
    "## Initialization\n",
    "\n",
    "Now we can instantiate our model object and load documents:"
   ]
  },
  {
   "cell_type": "code",
   "execution_count": 1,
   "id": "2a33b623-8d58-4edf-ab40-eef1c9c1b824",
   "metadata": {},
   "outputs": [],
   "source": [
    "from langchain_community.document_loaders import HuridocsPDFLoader\n",
    "from langchain_core.documents import Document\n",
    "\n",
    "loader = HuridocsPDFLoader(\"./example_data/layout-parser-paper.pdf\")"
   ]
  },
  {
   "cell_type": "markdown",
   "id": "ab875dff-e89c-43bf-be0c-de21a0788b44",
   "metadata": {},
   "source": [
    "## Load"
   ]
  },
  {
   "cell_type": "code",
   "execution_count": 2,
   "id": "52a142f6-40fc-4edb-b557-a0dd864554b7",
   "metadata": {},
   "outputs": [
    {
     "data": {
      "text/plain": [
       "Document(metadata={'coordinates': (158.0, 115.0, 298.0, 30.0), 'page_number': 1, 'page_width': 612, 'page_height': 792, 'type': 'Title'}, page_content='LayoutParser : A Unified Toolkit for Deep Learning Based Document Image Analysis')"
      ]
     },
     "execution_count": 2,
     "metadata": {},
     "output_type": "execute_result"
    }
   ],
   "source": [
    "docs: list[Document] = loader.load()\n",
    "docs[0]"
   ]
  },
  {
   "cell_type": "code",
   "execution_count": 3,
   "id": "aa28c1dd-c068-4c0c-8631-5aa1fa112881",
   "metadata": {},
   "outputs": [
    {
     "data": {
      "text/plain": [
       "Document(metadata={'coordinates': (134.0, 170.0, 346.0, 22.0), 'page_number': 1, 'page_width': 612, 'page_height': 792, 'type': 'Text'}, page_content='Zejiang Shen 1 ( ), Ruochen Zhang 2 , Melissa Dell 3 , Benjamin Charles Germain Lee 4 , Jacob Carlson 3 , and Weining Li 5')"
      ]
     },
     "execution_count": 3,
     "metadata": {},
     "output_type": "execute_result"
    }
   ],
   "source": [
    "docs[1]"
   ]
  },
  {
   "cell_type": "code",
   "execution_count": 4,
   "id": "c22d3d0b-ce31-487a-958f-fa047801a523",
   "metadata": {},
   "outputs": [
    {
     "data": {
      "text/plain": [
       "Document(metadata={'coordinates': (207.0, 203.0, 199.0, 107.0), 'page_number': 1, 'page_width': 612, 'page_height': 792, 'type': 'Text'}, page_content='1 Allen Institute for AI shannons@allenai.org 2 Brown University ruochen zhang@brown.edu 3 Harvard University { melissadell,jacob carlson } @fas.harvard.edu 4 University of Washington bcgl@cs.washington.edu 5 University of Waterloo w422li@uwaterloo.ca')"
      ]
     },
     "execution_count": 4,
     "metadata": {},
     "output_type": "execute_result"
    }
   ],
   "source": [
    "docs[2]"
   ]
  },
  {
   "cell_type": "code",
   "execution_count": 5,
   "id": "3b0c8fa7-fed6-41f3-9e0f-82a2503fefab",
   "metadata": {},
   "outputs": [
    {
     "name": "stdout",
     "output_type": "stream",
     "text": [
      "{'coordinates': (158.0, 115.0, 298.0, 30.0), 'page_number': 1, 'page_width': 612, 'page_height': 792, 'type': 'Title'}\n"
     ]
    }
   ],
   "source": [
    "print(docs[0].metadata)"
   ]
  },
  {
   "cell_type": "markdown",
   "id": "b47f3cef-2804-4b5c-993c-368e290e6743",
   "metadata": {},
   "source": [
    "## Lazy Load"
   ]
  },
  {
   "cell_type": "code",
   "execution_count": 6,
   "id": "5f1b596b-88f2-43ff-a735-7ea0e2cc1c3f",
   "metadata": {},
   "outputs": [],
   "source": [
    "page = []\n",
    "for doc in loader.lazy_load():\n",
    "    page.append(doc)\n",
    "    if len(page) >= 10:\n",
    "        # do some paged operation, e.g.\n",
    "        # index.upsert(page)\n",
    "\n",
    "        page = []"
   ]
  },
  {
   "cell_type": "markdown",
   "id": "9db5ed0c-4ddf-4856-b195-0f06ea552637",
   "metadata": {},
   "source": [
    "## API reference\n",
    "\n",
    "For detailed documentation of all PDFMinerLoader features and configurations head to the API reference: https://api.python.langchain.com/en/latest/document_loaders/langchain_community.document_loaders.pdf.HuridocsPDFLoader.html"
   ]
  }
 ],
 "metadata": {
  "kernelspec": {
   "display_name": "Python 3 (ipykernel)",
   "language": "python",
   "name": "python3"
  },
  "language_info": {
   "codemirror_mode": {
    "name": "ipython",
    "version": 3
   },
   "file_extension": ".py",
   "mimetype": "text/x-python",
   "name": "python",
   "nbconvert_exporter": "python",
   "pygments_lexer": "ipython3",
   "version": "3.11.9"
  }
 },
 "nbformat": 4,
 "nbformat_minor": 5
}
