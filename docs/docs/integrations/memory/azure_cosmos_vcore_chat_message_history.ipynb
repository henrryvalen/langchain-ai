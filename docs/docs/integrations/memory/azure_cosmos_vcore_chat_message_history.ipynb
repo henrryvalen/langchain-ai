{
 "cells": [
  {
   "cell_type": "markdown",
   "id": "91c6a7ef",
   "metadata": {},
   "source": [
    "# Azure Cosmos DB for MongoDB (vCore)\n",
    "\n",
    ">`Azure Cosmos DB for MongoDB in vCore` architecture makes it easy to create a database with full native MongoDB support. You can apply your MongoDB experience and continue to use your favorite MongoDB drivers, SDKs, and tools by pointing your application to the API for MongoDB (vCore) account's connection string.\n",
    "\n",
    "This notebook goes over how to use the `AzureCosmosVCoreChatMessageHistory` class to store chat message history in a Azure Cosmos vCore database.\n"
   ]
  },
  {
   "cell_type": "markdown",
   "id": "2d6ed3c8-b70a-498c-bc9e-41b91797d3b7",
   "metadata": {},
   "source": [
    "## Setup\n",
    "\n",
    "The integration lives in the `langchain-community` package, so we need to install that.\n",
    "\n",
    "```bash\n",
    "pip install -U --quiet langchain-community\n",
    "```"
   ]
  },
  {
   "cell_type": "markdown",
   "id": "09c33ad3-9ab1-48b5-bead-9a44f3d86eeb",
   "metadata": {},
   "source": [
    "It's also helpful (but not needed) to set up [LangSmith](https://smith.langchain.com/) for best-in-class observability"
   ]
  },
  {
   "cell_type": "code",
   "execution_count": 1,
   "id": "0976204d-c681-4288-bfe5-a550e0340f35",
   "metadata": {},
   "outputs": [],
   "source": [
    "# os.environ[\"LANGCHAIN_TRACING_V2\"] = \"true\"\n",
    "# os.environ[\"LANGCHAIN_API_KEY\"] = getpass.getpass()"
   ]
  },
  {
   "cell_type": "markdown",
   "id": "71a0a5aa-8f12-462a-bcd0-c611d76566f8",
   "metadata": {},
   "source": [
    "## Usage\n",
    "\n",
    "To use the storage you need to provide only 2 things:\n",
    "\n",
    "1. Session Id - a unique identifier of the session, like user name, email, chat id etc.\n",
    "2. Connection string - a string that specifies the database connection. Use a URL encoded connection string when connecting to a UNIX domain socket.\n",
    "\n",
    "If you want to customize where the chat histories go, you can also pass:\n",
    "1. *database_name* - name of the database to use\n",
    "1. *collection_name* - collection to use within that database"
   ]
  },
  {
   "cell_type": "code",
   "execution_count": 2,
   "id": "0179847d-76b6-43bc-b15c-7fecfcb27ac7",
   "metadata": {
    "ExecuteTime": {
     "end_time": "2023-08-28T10:04:38.077748Z",
     "start_time": "2023-08-28T10:04:36.105894Z"
    },
    "collapsed": false,
    "jupyter": {
     "outputs_hidden": false
    }
   },
   "outputs": [
    {
     "name": "stderr",
     "output_type": "stream",
     "text": [
      "/workspaces/langchain/libs/community/langchain_community/chat_message_histories/azure_cosmos_vcore.py:52: UserWarning: You appear to be connected to a CosmosDB cluster. For more information regarding feature compatibility and support please visit https://www.mongodb.com/supportability/cosmosdb\n",
      "  self.client: MongoClient = MongoClient(connection_string)\n"
     ]
    }
   ],
   "source": [
    "from langchain_community.chat_message_histories import (\n",
    "    AzureCosmosVCoreChatMessageHistory,\n",
    ")\n",
    "\n",
    "chat_message_history = AzureCosmosVCoreChatMessageHistory(\n",
    "    session_id=\"test_session\",\n",
    "    connection_string=\"mongodb+srv://<user>:<password>@testdb.mongocluster.cosmos.azure.com/?tls=true&authMechanism=SCRAM-SHA-256&retrywrites=false&maxIdleTimeMS=120000\",\n",
    "    database_name=\"my_db\",\n",
    "    collection_name=\"chat_histories\",\n",
    ")\n",
    "\n",
    "chat_message_history.add_user_message(\"Hello\")\n",
    "chat_message_history.add_ai_message(\"Hi\")"
   ]
  },
  {
   "cell_type": "code",
   "execution_count": 3,
   "id": "6e7b8653-a8d2-49a7-97ba-4296f7e717e9",
   "metadata": {},
   "outputs": [
    {
     "data": {
      "text/plain": [
       "[HumanMessage(content='Hello'), AIMessage(content='Hi')]"
      ]
     },
     "execution_count": 3,
     "metadata": {},
     "output_type": "execute_result"
    }
   ],
   "source": [
    "chat_message_history.messages"
   ]
  },
  {
   "cell_type": "markdown",
   "id": "e352d786-0811-48ec-832a-9f1c0b70690e",
   "metadata": {},
   "source": [
    "## Chaining\n",
    "\n",
    "We can easily combine this message history class with [LCEL Runnables](/docs/how_to/message_history)\n",
    "\n",
    "To do this we will want to use OpenAI, so we need to install that.  You will also need to set the OPENAI_API_KEY environment variable to your OpenAI key.\n"
   ]
  },
  {
   "cell_type": "code",
   "execution_count": 4,
   "id": "6558418b-0ece-4d01-9661-56d562d78f7a",
   "metadata": {},
   "outputs": [],
   "source": [
    "from langchain_core.prompts import ChatPromptTemplate, MessagesPlaceholder\n",
    "from langchain_core.runnables.history import RunnableWithMessageHistory\n",
    "from langchain_openai import AzureChatOpenAI"
   ]
  },
  {
   "cell_type": "code",
   "execution_count": 5,
   "id": "86ddfd3f-e8cf-477a-a7fd-91be3b8aa928",
   "metadata": {},
   "outputs": [],
   "source": [
    "import os\n",
    "\n",
    "# \"Set the OPENAI_API_VERSION environment variable with your Azure OpenAI API version.\"\n",
    "os.environ[\"OPENAI_API_VERSION\"] = \"OPENAI_API_VERSION\"\n",
    "# \"Set the OPENAI_API_KEY environment variable with your Azure OpenAI API key.\"\n",
    "os.environ[\"OPENAI_API_KEY\"] = \"OPENAI_API_KEY\"\n",
    "# \"Set the AZURE_OPENAI_ENDPOINT environment variable with your Azure OpenAI endpoint.\"\n",
    "os.environ[\"AZURE_OPENAI_ENDPOINT\"] = \"AZURE_OPENAI_ENDPOINT\""
   ]
  },
  {
   "cell_type": "code",
   "execution_count": 6,
   "id": "82149122-61d3-490d-9bdb-bb98606e8ba1",
   "metadata": {},
   "outputs": [],
   "source": [
    "prompt = ChatPromptTemplate.from_messages(\n",
    "    [\n",
    "        (\"system\", \"You are a helpful assistant.\"),\n",
    "        MessagesPlaceholder(variable_name=\"history\"),\n",
    "        (\"human\", \"{question}\"),\n",
    "    ]\n",
    ")\n",
    "\n",
    "chain = prompt | AzureChatOpenAI(\n",
    "    azure_deployment=\"<Name_of_Azure_OpenAI_deployment_to_use>\"\n",
    ")"
   ]
  },
  {
   "cell_type": "code",
   "execution_count": 7,
   "id": "2df90853-b67c-490f-b7f8-b69d69270b9c",
   "metadata": {},
   "outputs": [],
   "source": [
    "chain_with_history = RunnableWithMessageHistory(\n",
    "    chain,\n",
    "    lambda session_id: AzureCosmosVCoreChatMessageHistory(\n",
    "        session_id=session_id,\n",
    "        connection_string=\"mongodb+srv://<user>:<password>@testdb.mongocluster.cosmos.azure.com/?tls=true&authMechanism=SCRAM-SHA-256&retrywrites=false&maxIdleTimeMS=120000\",\n",
    "        database_name=\"my_db\",\n",
    "        collection_name=\"chat_histories\",\n",
    "    ),\n",
    "    input_messages_key=\"question\",\n",
    "    history_messages_key=\"history\",\n",
    ")"
   ]
  },
  {
   "cell_type": "code",
   "execution_count": 8,
   "id": "0ce596b8-3b78-48fd-9f92-46dccbbfd58b",
   "metadata": {},
   "outputs": [],
   "source": [
    "# This is where we configure the session id\n",
    "config = {\"configurable\": {\"session_id\": \"<SESSION_ID>\"}}"
   ]
  },
  {
   "cell_type": "code",
   "execution_count": 10,
   "id": "38e1423b-ba86-4496-9151-25932fab1a8b",
   "metadata": {},
   "outputs": [
    {
     "name": "stderr",
     "output_type": "stream",
     "text": [
      "/workspaces/langchain/libs/community/langchain_community/chat_message_histories/azure_cosmos_vcore.py:52: UserWarning: You appear to be connected to a CosmosDB cluster. For more information regarding feature compatibility and support please visit https://www.mongodb.com/supportability/cosmosdb\n",
      "  self.client: MongoClient = MongoClient(connection_string)\n"
     ]
    },
    {
     "data": {
      "text/plain": [
       "'Hello again, Bob! How can I help you today?'"
      ]
     },
     "execution_count": 10,
     "metadata": {},
     "output_type": "execute_result"
    }
   ],
   "source": [
    "chain_with_history.invoke({\"question\": \"Hi! I'm bob\"}, config=config).content"
   ]
  },
  {
   "cell_type": "code",
   "execution_count": 11,
   "id": "2ee4ee62-a216-4fb1-bf33-57476a84cf16",
   "metadata": {},
   "outputs": [
    {
     "name": "stderr",
     "output_type": "stream",
     "text": [
      "/workspaces/langchain/libs/community/langchain_community/chat_message_histories/azure_cosmos_vcore.py:52: UserWarning: You appear to be connected to a CosmosDB cluster. For more information regarding feature compatibility and support please visit https://www.mongodb.com/supportability/cosmosdb\n",
      "  self.client: MongoClient = MongoClient(connection_string)\n"
     ]
    },
    {
     "data": {
      "text/plain": [
       "'Your name is Bob. How can I assist you further?'"
      ]
     },
     "execution_count": 11,
     "metadata": {},
     "output_type": "execute_result"
    }
   ],
   "source": [
    "chain_with_history.invoke({\"question\": \"Whats my name\"}, config=config).content"
   ]
  },
  {
   "cell_type": "code",
   "execution_count": null,
   "id": "69176e15-9c34-4125-9db3-367d869d686e",
   "metadata": {},
   "outputs": [],
   "source": []
  }
 ],
 "metadata": {
  "kernelspec": {
   "display_name": "Python 3 (ipykernel)",
   "language": "python",
   "name": "python3"
  },
  "language_info": {
   "codemirror_mode": {
    "name": "ipython",
    "version": 3
   },
   "file_extension": ".py",
   "mimetype": "text/x-python",
   "name": "python",
   "nbconvert_exporter": "python",
   "pygments_lexer": "ipython3",
   "version": "3.11.4"
  }
 },
 "nbformat": 4,
 "nbformat_minor": 5
}
