{
 "cells": [
  {
   "cell_type": "markdown",
   "id": "683953b3",
   "metadata": {
    "id": "683953b3"
   },
   "source": [
    "# OpenSearch\n",
    "\n",
    ">[OpenSearch](https://opensearch.org) is a distributed, RESTful search and analytics engine, capable of performing both vector and lexical search, derived from Elasticsearch 7.10.2. \n",
    "\n",
    "This notebook shows how to use chat message history functionality with `OpenSearch`."
   ]
  },
  {
   "cell_type": "markdown",
   "id": "3c7720c3",
   "metadata": {},
   "source": [
    "## Set up OpenSearch\n",
    "\n",
    "There are two main ways to set up an OpenSearch instance:\n",
    "\n",
    "1. **AWS.** AWS offers a managed OpenSearch service. You can test it with their [free credits](https://aws.amazon.com/opensearch-service/).\n",
    "\n",
    "2. **Local OpenSearch installation.** Get started with OpenSearch by running it locally. The easiest way is to use the official OpenSearch Docker image. See the [OpenSearch Docker documentation](https://opensearch.org/docs/latest/install-and-configure/install-opensearch/docker/) for more information."
   ]
  },
  {
   "cell_type": "markdown",
   "id": "cdf1d2b7",
   "metadata": {},
   "source": [
    "## Install dependencies"
   ]
  },
  {
   "cell_type": "code",
   "execution_count": null,
   "id": "e5bbffe2",
   "metadata": {},
   "outputs": [],
   "source": [
    "%pip install --upgrade --quiet  opensearch-py langchain langchain-community"
   ]
  },
  {
   "cell_type": "markdown",
   "id": "c46c216c",
   "metadata": {},
   "source": [
    "## Authentication\n",
    "\n",
    "### Use the Username/password\n",
    "\n",
    "```python\n",
    "opensearch_username = os.environ.get(\"OPENSEARCH_USERNAME\", \"opensearch\")\n",
    "opensearch_password = os.environ.get(\"OPENSEARCH_PASSWORD\", \"change me...\")\n",
    "\n",
    "history = OpenSearchChatMessageHistory(\n",
    "    opensearch_url=opensearch_url,\n",
    "    opensearch_user=opensearch_username,\n",
    "    opensearch_password=opensearch_password,\n",
    "    index=\"test-history\",\n",
    "    session_id=\"test-session\"\n",
    ")\n",
    "```\n",
    "\n",
    "```\n",
    "NOTE: \n",
    "If you want to instantiate the opensearch client separately,  \n",
    "pass it in with the `opensearch_connection` keyword argument.\n",
    "```"
   ]
  },
  {
   "cell_type": "markdown",
   "id": "8be8fcc3",
   "metadata": {},
   "source": [
    "## Initialize OpenSearch client and chat message history"
   ]
  },
  {
   "cell_type": "code",
   "execution_count": 1,
   "id": "8e2ee0fa",
   "metadata": {},
   "outputs": [],
   "source": [
    "import os\n",
    "\n",
    "from langchain_community.chat_message_histories import OpenSearchChatMessageHistory\n",
    "\n",
    "opensearch_url = os.environ.get(\"OPENSEARCH_URL\", \"http://localhost:9200\")\n",
    "history = OpenSearchChatMessageHistory(\n",
    "    opensearch_url=opensearch_url, index=\"test-history\", session_id=\"test-session\"\n",
    ")"
   ]
  },
  {
   "cell_type": "markdown",
   "id": "a63942e2",
   "metadata": {},
   "source": [
    "## Use the chat message history"
   ]
  },
  {
   "cell_type": "code",
   "execution_count": 4,
   "id": "c1c7be79",
   "metadata": {},
   "outputs": [
    {
     "data": {
      "text/plain": [
       "[HumanMessage(content='hi!'), AIMessage(content='whats up?')]"
      ]
     },
     "execution_count": 4,
     "metadata": {},
     "output_type": "execute_result"
    }
   ],
   "source": [
    "history.add_user_message(\"hi!\")\n",
    "history.add_ai_message(\"whats up?\")\n",
    "history.messages"
   ]
  },
  {
   "cell_type": "code",
   "execution_count": null,
   "id": "2e4710c0",
   "metadata": {},
   "outputs": [],
   "source": []
  }
 ],
 "metadata": {
  "colab": {
   "provenance": []
  },
  "kernelspec": {
   "display_name": "Python 3 (ipykernel)",
   "language": "python",
   "name": "python3"
  },
  "language_info": {
   "codemirror_mode": {
    "name": "ipython",
    "version": 3
   },
   "file_extension": ".py",
   "mimetype": "text/x-python",
   "name": "python",
   "nbconvert_exporter": "python",
   "pygments_lexer": "ipython3",
   "version": "3.9.6"
  }
 },
 "nbformat": 4,
 "nbformat_minor": 5
}
