{
 "cells": [
  {
   "attachments": {},
   "cell_type": "markdown",
   "id": "9fc6205b",
   "metadata": {},
   "source": [
    "# Denser\n",
    "\n",
    ">[DenserRetriever](https://retriever-docs.denser.ai/docs/core) is an open-source RAG framework that allows you to connect your personal data with Large Language Models.\n",
    "\n",
    "This notebook shows how to use [DenserRetriever](https://retriever.denser.ai/docs/core).\n",
    "\n",
    "First, you will need to sign up for DenserRetriever, create a retriever, add some data and get your retriever api endpoint url. You need the [API Key](https://retriever-docs.denser.ai/docs/api)."
   ]
  },
  {
   "attachments": {},
   "cell_type": "markdown",
   "id": "944e172b",
   "metadata": {},
   "source": [
    "## Query\n",
    "\n",
    "Once your retriever index is set up, you can start querying it."
   ]
  },
  {
   "cell_type": "code",
   "execution_count": 1,
   "id": "d0e6f506",
   "metadata": {
    "tags": []
   },
   "outputs": [],
   "source": [
    "from langchain_community.retrievers import DenserRetriever"
   ]
  },
  {
   "cell_type": "code",
   "execution_count": 2,
   "id": "f381f642",
   "metadata": {
    "tags": []
   },
   "outputs": [],
   "source": [
    "retriever = DenserRetriever(\n",
    "    api_url=\"https://retriever.denser.ai/api/retrievers/retrieve\",\n",
    "    retriever_id=\"DENSER_RETRIEVER_ID\",\n",
    "    api_key=\"DENSER_RETRIEVER_API_KEY\",\n",
    "    # top_k=10 # optional\n",
    ")"
   ]
  },
  {
   "cell_type": "code",
   "execution_count": null,
   "id": "20ae1a74",
   "metadata": {},
   "outputs": [],
   "source": [
    "retriever.invoke(\"What is DenserRetriever?\")"
   ]
  }
 ],
 "metadata": {
  "kernelspec": {
   "display_name": "Python 3 (ipykernel)",
   "language": "python",
   "name": "python3"
  },
  "language_info": {
   "codemirror_mode": {
    "name": "ipython",
    "version": 3
   },
   "file_extension": ".py",
   "mimetype": "text/x-python",
   "name": "python",
   "nbconvert_exporter": "python",
   "pygments_lexer": "ipython3",
   "version": "3.10.12"
  }
 },
 "nbformat": 4,
 "nbformat_minor": 5
}
