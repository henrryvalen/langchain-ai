{
 "cells": [
  {
   "cell_type": "markdown",
   "id": "13afcae7",
   "metadata": {},
   "source": [
    "# Sineps Self Query\n",
    "\n",
    ">[Sineps](https://sineps.io) provides fast and cost-effective NLP models. [Filter Extractor](https://sineps.io/filter-extractor) is a model that extracts the metadata filter from the user's query. It can be used as a self-query retriever. In langchain, the Filter Extractor is implemented as a `SinepsSelfQueryRetriever`.\n",
    "\n",
    "In the walkthrough, we'll demo the `SinepsSelfQueryRetriever` with a simple example."
   ]
  },
  {
   "cell_type": "markdown",
   "id": "68e75fb9",
   "metadata": {},
   "source": [
    "## Setup\n",
    "\n",
    "You will need to have an API key to use Sineps. You can get one [here](https://platform.sineps.io/)."
   ]
  },
  {
   "cell_type": "code",
   "execution_count": 1,
   "id": "63a8af5b",
   "metadata": {
    "tags": []
   },
   "outputs": [],
   "source": [
    "import os\n",
    "import getpass\n",
    "\n",
    "os.environ[\"SINEPS_API_KEY\"] = getpass.getpass(\"Sineps API Key:\")"
   ]
  },
  {
   "cell_type": "markdown",
   "id": "5c1a8118",
   "metadata": {},
   "source": [
    "We want to use `OpenAIEmbeddings` so we have to get the OpenAI API Key."
   ]
  },
  {
   "cell_type": "code",
   "execution_count": 2,
   "id": "650fabd2",
   "metadata": {},
   "outputs": [],
   "source": [
    "import getpass\n",
    "import os\n",
    "\n",
    "os.environ[\"OPENAI_API_KEY\"] = getpass.getpass(\"OpenAI API Key:\")"
   ]
  },
  {
   "cell_type": "markdown",
   "id": "6762ce98",
   "metadata": {},
   "source": [
    "## Creating a Chroma vector store\n",
    "\n",
    "First we'll want to create a Chroma vector store and seed it with some data. We've created a small demo set of documents that contain summaries of movies.\n",
    "\n",
    "**Note:** The self-query retriever requires you to have `lark` installed (`pip install lark`). We also need the `langchain-chroma` package."
   ]
  },
  {
   "cell_type": "code",
   "execution_count": null,
   "id": "cc70416d",
   "metadata": {},
   "outputs": [],
   "source": [
    "\n",
    "%pip install --upgrade --quiet  lark"
   ]
  },
  {
   "cell_type": "code",
   "execution_count": null,
   "id": "1f6ed6f9",
   "metadata": {},
   "outputs": [],
   "source": [
    "%pip install --upgrade --quiet  langchain-chroma"
   ]
  },
  {
   "cell_type": "code",
   "execution_count": 3,
   "id": "5ecaab6d",
   "metadata": {},
   "outputs": [],
   "source": [
    "from langchain_chroma import Chroma\n",
    "from langchain_core.documents import Document\n",
    "from langchain_openai import OpenAIEmbeddings\n",
    "\n",
    "embeddings = OpenAIEmbeddings()"
   ]
  },
  {
   "cell_type": "code",
   "execution_count": 4,
   "id": "b67f68b8",
   "metadata": {},
   "outputs": [],
   "source": [
    "docs = [\n",
    "    Document(\n",
    "        page_content=\"A bunch of scientists bring back dinosaurs and mayhem breaks loose\",\n",
    "        metadata={\"year\": 1993, \"rating\": 7.7, \"genre\": \"science fiction\"},\n",
    "    ),\n",
    "    Document(\n",
    "        page_content=\"Leo DiCaprio gets lost in a dream within a dream within a dream within a ...\",\n",
    "        metadata={\"year\": 2010, \"director\": \"Christopher Nolan\", \"rating\": 8.2},\n",
    "    ),\n",
    "    Document(\n",
    "        page_content=\"A psychologist / detective gets lost in a series of dreams within dreams within dreams and Inception reused the idea\",\n",
    "        metadata={\"year\": 2006, \"director\": \"Satoshi Kon\", \"rating\": 8.6},\n",
    "    ),\n",
    "    Document(\n",
    "        page_content=\"A bunch of normal-sized women are supremely wholesome and some men pine after them\",\n",
    "        metadata={\"year\": 2019, \"director\": \"Greta Gerwig\", \"rating\": 8.3},\n",
    "    ),\n",
    "    Document(\n",
    "        page_content=\"Toys come alive and have a blast doing so\",\n",
    "        metadata={\"year\": 1995, \"genre\": \"animated\"},\n",
    "    ),\n",
    "    Document(\n",
    "        page_content=\"Three men walk into the Zone, three men walk out of the Zone\",\n",
    "        metadata={\n",
    "            \"year\": 1979,\n",
    "            \"director\": \"Andrei Tarkovsky\",\n",
    "            \"genre\": \"science fiction\",\n",
    "            \"rating\": 9.9,\n",
    "        },\n",
    "    ),\n",
    "]\n",
    "vectorstore = Chroma.from_documents(docs, embeddings)"
   ]
  },
  {
   "cell_type": "markdown",
   "id": "3c2e2724",
   "metadata": {},
   "source": [
    "## Creating the Sineps self-querying retriever\n",
    "\n",
    "Now we can instantiate our retriever. To do this we'll need to provide some information upfront about the metadata fields that our documents support and a short description of the document contents.\n",
    "\n",
    "Note that we use `SinepsAttributeInfo` to specify the metadata fields instead of `AttributeInfo`. "
   ]
  },
  {
   "cell_type": "code",
   "execution_count": 5,
   "id": "86e34dbf",
   "metadata": {
    "tags": []
   },
   "outputs": [],
   "source": [
    "from langchain_community.retrievers.sineps import (\n",
    "    SinepsAttributeInfo,\n",
    "    SinepsSelfQueryRetriever,\n",
    ")\n",
    "\n",
    "sineps_metadata_field_info = [\n",
    "    SinepsAttributeInfo(\n",
    "        name=\"genre\",\n",
    "        description=\"The genre of the movie.\",\n",
    "        type=\"string\",\n",
    "        values=[\n",
    "            \"science fiction\",\n",
    "            \"comedy\",\n",
    "            \"drama\",\n",
    "            \"thriller\",\n",
    "            \"romance\",\n",
    "            \"action\",\n",
    "            \"animated\",\n",
    "        ],\n",
    "    ),\n",
    "    SinepsAttributeInfo(\n",
    "        name=\"year\",\n",
    "        description=\"The year the movie was released\",\n",
    "        type=\"number\",\n",
    "    ),\n",
    "    SinepsAttributeInfo(\n",
    "        name=\"director\",\n",
    "        description=\"The name of the movie director\",\n",
    "        type=\"string\",\n",
    "        values=[\n",
    "            \"Christopher Nolan\",\n",
    "            \"Satoshi Kon\",\n",
    "            \"Greta Gerwig\",\n",
    "            \"Andrei Tarkovsky\",\n",
    "        ],\n",
    "    ),\n",
    "    SinepsAttributeInfo(\n",
    "        name=\"rating\", description=\"A 1-10 rating for the movie\", type=\"number\"\n",
    "    ),\n",
    "]\n",
    "retriever = SinepsSelfQueryRetriever(\n",
    "    vectorstore=vectorstore,\n",
    "    sineps_metadata_field_info=sineps_metadata_field_info,\n",
    "    verbose=True,\n",
    ")"
   ]
  },
  {
   "cell_type": "markdown",
   "id": "ea9df8d4",
   "metadata": {},
   "source": [
    "## Testing it out\n",
    "And now we can try actually using our retriever!"
   ]
  },
  {
   "cell_type": "code",
   "execution_count": 6,
   "id": "38a126e9",
   "metadata": {},
   "outputs": [
    {
     "name": "stderr",
     "output_type": "stream",
     "text": [
      "Generated Query: query='What are some movies about dinosaurs' filter=None limit=None\n"
     ]
    },
    {
     "data": {
      "text/plain": [
       "[Document(metadata={'genre': 'science fiction', 'rating': 7.7, 'year': 1993}, page_content='A bunch of scientists bring back dinosaurs and mayhem breaks loose'),\n",
       " Document(metadata={'genre': 'animated', 'year': 1995}, page_content='Toys come alive and have a blast doing so'),\n",
       " Document(metadata={'director': 'Satoshi Kon', 'rating': 8.6, 'year': 2006}, page_content='A psychologist / detective gets lost in a series of dreams within dreams within dreams and Inception reused the idea'),\n",
       " Document(metadata={'director': 'Christopher Nolan', 'rating': 8.2, 'year': 2010}, page_content='Leo DiCaprio gets lost in a dream within a dream within a dream within a ...')]"
      ]
     },
     "execution_count": 6,
     "metadata": {},
     "output_type": "execute_result"
    }
   ],
   "source": [
    "# This example only specifies a relevant query\n",
    "retriever.invoke(\"What are some movies about dinosaurs\")"
   ]
  },
  {
   "cell_type": "code",
   "execution_count": 7,
   "id": "fc3f1e6e",
   "metadata": {},
   "outputs": [
    {
     "data": {
      "text/plain": [
       "[Document(metadata={'director': 'Satoshi Kon', 'rating': 8.6, 'year': 2006}, page_content='A psychologist / detective gets lost in a series of dreams within dreams within dreams and Inception reused the idea'),\n",
       " Document(metadata={'director': 'Andrei Tarkovsky', 'genre': 'science fiction', 'rating': 9.9, 'year': 1979}, page_content='Three men walk into the Zone, three men walk out of the Zone')]"
      ]
     },
     "execution_count": 7,
     "metadata": {},
     "output_type": "execute_result"
    }
   ],
   "source": [
    "# This example only specifies a filter\n",
    "retriever.invoke(\"I want to watch a movie rated higher than 8.5\")"
   ]
  },
  {
   "cell_type": "code",
   "execution_count": 8,
   "id": "b19d4da0",
   "metadata": {},
   "outputs": [
    {
     "data": {
      "text/plain": [
       "[Document(metadata={'director': 'Greta Gerwig', 'rating': 8.3, 'year': 2019}, page_content='A bunch of normal-sized women are supremely wholesome and some men pine after them')]"
      ]
     },
     "execution_count": 8,
     "metadata": {},
     "output_type": "execute_result"
    }
   ],
   "source": [
    "# This example specifies a query and a filter\n",
    "retriever.invoke(\"Has Greta Gerwig directed any movies about women\")"
   ]
  },
  {
   "cell_type": "code",
   "execution_count": 9,
   "id": "f900e40e",
   "metadata": {},
   "outputs": [
    {
     "data": {
      "text/plain": [
       "[Document(metadata={'director': 'Andrei Tarkovsky', 'genre': 'science fiction', 'rating': 9.9, 'year': 1979}, page_content='Three men walk into the Zone, three men walk out of the Zone')]"
      ]
     },
     "execution_count": 9,
     "metadata": {},
     "output_type": "execute_result"
    }
   ],
   "source": [
    "# This example specifies a composite filter\n",
    "retriever.invoke(\"What's a highly rated (above 8.5) science fiction film?\")"
   ]
  },
  {
   "cell_type": "code",
   "execution_count": 10,
   "id": "12a51522",
   "metadata": {},
   "outputs": [
    {
     "data": {
      "text/plain": [
       "[Document(metadata={'genre': 'animated', 'year': 1995}, page_content='Toys come alive and have a blast doing so')]"
      ]
     },
     "execution_count": 10,
     "metadata": {},
     "output_type": "execute_result"
    }
   ],
   "source": [
    "# This example specifies a query and composite filter\n",
    "retriever.invoke(\n",
    "    \"What's a movie after 1990 but before 2005 that's all about toys, and preferably is animated\"\n",
    ")"
   ]
  },
  {
   "cell_type": "markdown",
   "id": "76bc60b4",
   "metadata": {},
   "source": [
    "## Advanced Functionality\n",
    "\n",
    "Now we'll look at date related functionality of the Sineps' Filter Extractor.\n",
    "ChromaDB does not support date type directly, so we'll use OpenSearch for this example.\n",
    "\n",
    "Setup OpenSearch yourself and we assume that we can access it via `http://localhost:9200`.\n",
    "In this example, we'll use a date type metadata field."
   ]
  },
  {
   "cell_type": "code",
   "execution_count": null,
   "id": "92de58b8",
   "metadata": {},
   "outputs": [],
   "source": [
    "docs = [\n",
    "    Document(\n",
    "        page_content=\"An in-depth analysis of how AIs are reshaping the job market and economy.\",\n",
    "        metadata={\n",
    "            \"published_date\": \"2020-01-15\",\n",
    "            \"rating\": 9.0,\n",
    "        },\n",
    "    ),\n",
    "    Document(\n",
    "        page_content=\"Exploring the economic consequences of AI advancements in 2024, focusing on job displacement.\",\n",
    "        metadata={\n",
    "            \"published_date\": \"2024-03-22\",\n",
    "            \"rating\": 8.7,\n",
    "        },\n",
    "    ),\n",
    "    Document(\n",
    "        page_content=\"The rise of AI: Examining the societal impact of large language models on employment and growth.\",\n",
    "        metadata={\n",
    "            \"published_date\": \"2024-05-10\",\n",
    "            \"rating\": 8.9,\n",
    "        },\n",
    "    ),\n",
    "    Document(\n",
    "        page_content=\"A retrospective on the influence of large language models on economic trends in 2024.\",\n",
    "        metadata={\n",
    "            \"published_date\": \"2024-11-05\",\n",
    "            \"rating\": 8.5,\n",
    "        },\n",
    "    ),\n",
    "    Document(\n",
    "        page_content=\"Comparing the job market of 2024 with previous years: The role of AI and automation.\",\n",
    "        metadata={\n",
    "            \"published_date\": \"2021-07-18\",\n",
    "            \"rating\": 8.8,\n",
    "        },\n",
    "    ),\n",
    "    Document(\n",
    "        page_content=\"The future of work: How large language models are redefining careers in 2024.\",\n",
    "        metadata={\n",
    "            \"published_date\": \"2024-09-30\",\n",
    "            \"rating\": 9.1,\n",
    "        },\n",
    "    ),\n",
    "]\n",
    "vectorstore = OpenSearchVectorSearch.from_documents(\n",
    "    docs,\n",
    "    OpenAIEmbeddings(),\n",
    "    index_name=\"opensearch-self-query-demo\",\n",
    "    opensearch_url=\"http://localhost:9200\",\n",
    ")"
   ]
  },
  {
   "cell_type": "markdown",
   "id": "c00f1561",
   "metadata": {},
   "source": [
    "sineps_metadata_field_info = [\n",
    "    SinepsAttributeInfo(\n",
    "        name=\"published_date\",\n",
    "        description=\"The date the article was published.\",\n",
    "        type=\"date\",\n",
    "    ),\n",
    "    SinepsAttributeInfo(\n",
    "        name=\"rating\", description=\"A 1-10 rating for the article\", \n",
    "        type=\"number\"\n",
    "    ),\n",
    "]\n",
    "retriever = SinepsSelfQueryRetriever(\n",
    "    vectorstore=vectorstore,\n",
    "    sineps_metadata_field_info=sineps_metadata_field_info,\n",
    "    verbose=True,\n",
    ")"
   ]
  },
  {
   "cell_type": "markdown",
   "id": "e1cf1dd0",
   "metadata": {},
   "source": [
    "You can specify a date range in the query."
   ]
  },
  {
   "cell_type": "code",
   "execution_count": null,
   "id": "ddf8e3cf",
   "metadata": {},
   "outputs": [],
   "source": [
    "retriever.invoke(\n",
    "    \"Find articles about the impact of Large language models on jobs and the economy, published in 2024\"\n",
    ")"
   ]
  },
  {
   "cell_type": "markdown",
   "id": "e67b6a73",
   "metadata": {},
   "source": [
    "You can also specify a date range based on today."
   ]
  },
  {
   "cell_type": "code",
   "execution_count": null,
   "id": "2f148bea",
   "metadata": {},
   "outputs": [],
   "source": [
    "retriever.invoke(\n",
    "    \"Find articles about the impact of Large language models on jobs and the economy published in the last 1 year\"\n",
    ")"
   ]
  }
 ],
 "metadata": {
  "kernelspec": {
   "display_name": "Python 3 (ipykernel)",
   "language": "python",
   "name": "python3"
  },
  "language_info": {
   "codemirror_mode": {
    "name": "ipython",
    "version": 3
   },
   "file_extension": ".py",
   "mimetype": "text/x-python",
   "name": "python",
   "nbconvert_exporter": "python",
   "pygments_lexer": "ipython3",
   "version": "3.9.19"
  }
 },
 "nbformat": 4,
 "nbformat_minor": 5
}
