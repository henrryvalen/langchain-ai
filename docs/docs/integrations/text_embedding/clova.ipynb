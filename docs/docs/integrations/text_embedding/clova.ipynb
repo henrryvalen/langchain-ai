{
  "cells": [
    {
      "cell_type": "markdown",
      "metadata": {
        "id": "-Bew9J94GaF9"
      },
      "source": [
        "# Clova Embeddings\n",
        "\n",
        "Clova offers two versions of embedding services: V1 and V2.  \n",
        "For more details, please check the [official documentation](https://guide.ncloud-docs.com/docs/clovastudio-explorer03) and [API guide](https://api.ncloud-docs.com/docs/clovastudio-embedding).\n",
        "\n",
        "\n",
        "<div style=\"margin-bottom: 30px;\"> <!-- 위쪽 공백 -->\n",
        "    <p style=\"font-size: 16px; line-height: 1.6; margin-bottom: 20px;\">\n",
        "        This table illustrates the details of the Clova embedding models and their specifications.\n",
        "        The embedding services are categorized based on their versions and capabilities.\n",
        "    </p>\n",
        "</div>\n",
        "\n",
        "<table style=\"width:100%; border-collapse: collapse; font-size: 18px; margin-bottom: 30px;\">\n",
        "  <tr style=\"background-color: #f2f2f2;\">\n",
        "    <th style=\"border: 1px solid black; padding: 15px; text-align: center;\">Tool Name</th>\n",
        "    <th style=\"border: 1px solid black; padding: 15px; text-align: center;\">Model Name</th>\n",
        "    <th style=\"border: 1px solid black; padding: 15px; text-align: center;\">Max Token Count</th>\n",
        "    <th style=\"border: 1px solid black; padding: 15px; text-align: center;\">Vector Dimension</th>\n",
        "    <th style=\"border: 1px solid black; padding: 15px; text-align: center;\">Recommended Distance Metric</th>\n",
        "  </tr>\n",
        "  <tr>\n",
        "    <td style=\"border: 1px solid black; padding: 15px; text-align: center;\">EmbeddingV1</td>\n",
        "    <td style=\"border: 1px solid black; padding: 15px; text-align: center;\">clir-emb-dolphin</td>\n",
        "    <td style=\"border: 1px solid black; padding: 15px; text-align: center;\">500 tokens</td>\n",
        "    <td style=\"border: 1px solid black; padding: 15px; text-align: center;\">1024</td>\n",
        "    <td style=\"border: 1px solid black; padding: 15px; text-align: center;\">IP (Inner Product/Dot Product/Scalar Product)</td>\n",
        "  </tr>\n",
        "  <tr>\n",
        "    <td style=\"border: 1px solid black; padding: 15px; text-align: center;\">EmbeddingV1</td>\n",
        "    <td style=\"border: 1px solid black; padding: 15px; text-align: center;\">clir-sts-dolphin</td>\n",
        "    <td style=\"border: 1px solid black; padding: 15px; text-align: center;\">500 tokens</td>\n",
        "    <td style=\"border: 1px solid black; padding: 15px; text-align: center;\">1024</td>\n",
        "    <td style=\"border: 1px solid black; padding: 15px; text-align: center;\">Cosine Similarity</td>\n",
        "  </tr>\n",
        "  <tr>\n",
        "    <td style=\"border: 1px solid black; padding: 15px; text-align: center;\">EmbeddingV2</td>\n",
        "    <td style=\"border: 1px solid black; padding: 15px; text-align: center;\">bge-m3</td>\n",
        "    <td style=\"border: 1px solid black; padding: 15px; text-align: center;\">8,192 tokens</td>\n",
        "    <td style=\"border: 1px solid black; padding: 15px; text-align: center;\">1024</td>\n",
        "    <td style=\"border: 1px solid black; padding: 15px; text-align: center;\">Cosine Similarity</td>\n",
        "  </tr>\n",
        "</table>\n",
        "\n",
        "<div style=\"margin-top: 30px;\"> <!-- 아래쪽 공백 -->\n",
        "    <p style=\"font-size: 16px; line-height: 1.6; margin-top: 20px;\">\n",
        "        This notebook demonstrates how to interact with Clova's inference for text embeddings using LangChain.\n",
        "    </p>\n",
        "</div>\n",
        "\n"
      ]
    },
    {
      "cell_type": "code",
      "execution_count": null,
      "metadata": {
        "id": "y22R9n0kGWkO"
      },
      "outputs": [],
      "source": [
        "import os\n",
        "\n",
        "os.environ[\"CLOVA_EMB_API_KEY\"] = \"\"\n",
        "os.environ[\"CLOVA_EMB_APIGW_API_KEY\"] = \"\"\n",
        "os.environ[\"CLOVA_EMB_APP_ID_V1\"] = \"\"\n",
        "os.environ[\"CLOVA_EMB_APP_ID_V2\"] = \"\""
      ]
    },
    {
      "cell_type": "code",
      "execution_count": null,
      "metadata": {
        "id": "kMArQZyCKKmN"
      },
      "outputs": [],
      "source": [
        "from langchain_community.embeddings import ClovaEmbeddingsV1, ClovaEmbeddingsV2"
      ]
    },
    {
      "cell_type": "code",
      "execution_count": null,
      "metadata": {
        "id": "uWRA-V1RKLYw"
      },
      "outputs": [],
      "source": [
        "query_text = \"This is a test query.\"\n",
        "document_texts = [\"This is a test doc1.\", \"This is a test doc2.\"]"
      ]
    },
    {
      "cell_type": "markdown",
      "metadata": {
        "id": "PoOxjbd8Yuvd"
      },
      "source": [
        "Define embedding test function"
      ]
    },
    {
      "cell_type": "code",
      "execution_count": null,
      "metadata": {
        "id": "8eAcCbqGKTOU"
      },
      "outputs": [],
      "source": [
        "def test_embeddings(embeddings_instance, query_text, document_texts):\n",
        "    query_result = embeddings_instance.embed_query(query_text)\n",
        "    document_result = embeddings_instance.embed_documents(document_texts)\n",
        "    return query_result, document_result"
      ]
    },
    {
      "cell_type": "markdown",
      "metadata": {
        "id": "ikdtDnVLYzIN"
      },
      "source": [
        "Test ClovaEmbeddingsV1 with 'clir-emb-dolphin' model"
      ]
    },
    {
      "cell_type": "code",
      "execution_count": null,
      "metadata": {
        "id": "r2_P1-nSKlaH"
      },
      "outputs": [],
      "source": [
        "embeddings_v1_emb = ClovaEmbeddingsV1(model=\"clir-emb-dolphin\")\n",
        "query_result_v1_emb, document_result_v1_emb = test_embeddings(embeddings_v1_emb, query_text, document_texts)\n",
        "\n",
        "print(\"V1 (clir-emb-dolphin) Query Embedding Result:\", query_result_v1_emb[:5])\n",
        "print(\"V1 (clir-emb-dolphin) Document Embedding Results:\", [doc[:5] for doc in document_result_v1_emb])"
      ]
    },
    {
      "cell_type": "markdown",
      "metadata": {
        "id": "zrAViS5tY1o4"
      },
      "source": [
        "Test ClovaEmbeddingsV1 with 'clir-sts-dolphin' model"
      ]
    },
    {
      "cell_type": "code",
      "execution_count": null,
      "metadata": {
        "id": "ut2Aq7gCKwAe"
      },
      "outputs": [],
      "source": [
        "embeddings_v1_sts = ClovaEmbeddingsV1(model=\"clir-sts-dolphin\")\n",
        "query_result_v1_sts, document_result_v1_sts = test_embeddings(embeddings_v1_sts, query_text, document_texts)\n",
        "\n",
        "print(\"V1 (clir-sts-dolphin) Query Embedding Result:\", query_result_v1_sts[:5])\n",
        "print(\"V1 (clir-sts-dolphin) Document Embedding Results:\", [doc[:5] for doc in document_result_v1_sts])"
      ]
    },
    {
      "cell_type": "markdown",
      "metadata": {
        "id": "LT3FtNfqY3ve"
      },
      "source": [
        "Test ClovaEmbeddingsV2"
      ]
    },
    {
      "cell_type": "code",
      "execution_count": null,
      "metadata": {
        "id": "Or8LQrNnUjMX"
      },
      "outputs": [],
      "source": [
        "embeddings_v2 = ClovaEmbeddingsV2()\n",
        "query_result_v2, document_result_v2 = test_embeddings(embeddings_v2, query_text, document_texts)\n",
        "\n",
        "print(\"V2 Query Embedding Result:\", query_result_v2[:5])\n",
        "print(\"V2 Document Embedding Results:\", [doc[:5] for doc in document_result_v2])"
      ]
    }
  ],
  "metadata": {
    "colab": {
      "provenance": []
    },
    "kernelspec": {
      "display_name": "Python 3",
      "name": "python3"
    },
    "language_info": {
      "name": "python"
    }
  },
  "nbformat": 4,
  "nbformat_minor": 0
}
