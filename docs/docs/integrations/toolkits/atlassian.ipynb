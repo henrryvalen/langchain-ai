{
 "cells": [
  {
   "metadata": {},
   "cell_type": "markdown",
   "source": [
    "# Atlassian Toolkit\n",
    "\n",
    "This notebook demonstrates how to use the Atlassian Toolkit, including detailed examples for interacting with the Jira and Confluence APIs. This toolkit is designed to be extensible and will allow future integrations with other tools in the Atlassian suite, such as Crowd, BitBucket, Bamboo, Jira Service Desk, Xray, and Cloud Admin.\n",
    "\n",
    "## Requirements\n",
    "\n",
    "Before starting, make sure to have the following environment variables set:\n",
    "\n",
    "- `ATLASSIAN_API_TOKEN`\n",
    "- `ATLASSIAN_USERNAME`\n",
    "- `ATLASSIAN_INSTANCE_URL`\n",
    "- `ATLASSIAN_CLOUD`\n",
    "\n",
    "### Installing Dependencies\n",
    "\n",
    "First, let's install the necessary dependencies:"
   ],
   "id": "80baecb57570c529"
  },
  {
   "metadata": {},
   "cell_type": "code",
   "source": [
    "%pip install atlassian-python-api\n",
    "%pip install langchain-community\n",
    "%pip install langchain-openai"
   ],
   "id": "9f2e0553dce733f4",
   "outputs": [],
   "execution_count": null
  },
  {
   "metadata": {},
   "cell_type": "markdown",
   "source": [
    "### Environment Setup\n",
    "\n",
    "Set the required environment variables for authentication:"
   ],
   "id": "3ab6a1ecfb3e95fa"
  },
  {
   "metadata": {},
   "cell_type": "code",
   "source": [
    "import os\n",
    "\n",
    "os.environ[\"ATLASSIAN_API_TOKEN\"] = \"your_token_here\"\n",
    "os.environ[\"ATLASSIAN_USERNAME\"] = \"your_username_here\"\n",
    "os.environ[\"ATLASSIAN_INSTANCE_URL\"] = \"https://your_instance.atlassian.net\"\n",
    "os.environ[\"ATLASSIAN_CLOUD\"] = \"True\"\n",
    "os.environ[\"OPENAI_API_KEY\"] = \"your_openai_api_key_here\""
   ],
   "id": "fe80ca89b526edd5",
   "outputs": [],
   "execution_count": null
  },
  {
   "metadata": {},
   "cell_type": "markdown",
   "source": "### Initializing the Toolkit",
   "id": "2b4b1d7de7268ceb"
  },
  {
   "metadata": {},
   "cell_type": "code",
   "source": [
    "from langchain_community.utilities.atlassian import AtlassianAPIWrapper\n",
    "from langchain_community.agent_toolkits.atlassian.toolkit import AtlassianToolkit\n",
    "from langchain.agents import create_react_agent\n",
    "from langchain_openai import OpenAI\n",
    "from langchain.prompts import PromptTemplate\n",
    "\n",
    "# Initializing the LLM\n",
    "llm = OpenAI(temperature=0.5)\n",
    "\n",
    "# Initializing the Atlassian API Wrapper\n",
    "atlassian = AtlassianAPIWrapper()\n",
    "\n",
    "# Creating the Toolkit\n",
    "toolkit = AtlassianToolkit.from_atlassian_api_wrapper(atlassian)\n",
    "\n",
    "# Define the prompt for the agent\n",
    "prompt_template = PromptTemplate(\n",
    "    input_variables=[\"input\", \"tools\", \"tool_names\", \"agent_scratchpad\"],\n",
    "    template=\"\"\"\n",
    "You are an assistant helping to manage Atlassian services. You can interact with Jira and Confluence to perform various tasks like creating issues, running JQL/CQL queries, and retrieving available functions.\n",
    "\n",
    "Given a task, determine the appropriate tool to use and execute the necessary actions.\n",
    "\n",
    "{input}\n",
    "\n",
    "Tools available:\n",
    "{tools}\n",
    "\n",
    "Tool names: {tool_names}\n",
    "\n",
    "Agent scratchpad: {agent_scratchpad}\n",
    "\n",
    "Your response should be in the following format:\n",
    "Action: <tool_name>\n",
    "Action Input: <input_for_tool>\n",
    "\"\"\"\n",
    ")\n",
    "\n",
    "# Initializing the Agent\n",
    "agent = create_react_agent(llm, tools=toolkit.get_tools(), prompt=prompt_template)\n"
   ],
   "id": "bc281c05e07d632a",
   "outputs": [],
   "execution_count": null
  },
  {
   "metadata": {},
   "cell_type": "markdown",
   "source": [
    "## Usage Examples\n",
    "\n",
    "### Creating an Issue in Jira\n",
    "\n",
    "Let's create a new issue in Jira:"
   ],
   "id": "768dcc4fc778adc6"
  },
  {
   "metadata": {},
   "cell_type": "code",
   "source": [
    "task_input = \"Create a new issue in project CS with summary 'Test Summary' and description 'Test Description for creating an issue in Jira'\"\n",
    "task = {\n",
    "    \"input\": task_input,\n",
    "    \"tools\": toolkit.get_tools(),\n",
    "    \"tool_names\": [tool.name for tool in toolkit.get_tools()],\n",
    "    \"agent_scratchpad\": [],\n",
    "    \"intermediate_steps\": []\n",
    "}\n",
    "\n",
    "response = agent.invoke(task)\n",
    "print(response)"
   ],
   "id": "5b8d5ba49797cd07",
   "outputs": [],
   "execution_count": null
  },
  {
   "metadata": {},
   "cell_type": "markdown",
   "source": [
    "### Running a JQL Query in Jira\n",
    "\n",
    "Let's run a JQL query in Jira to fetch issues in project CS:"
   ],
   "id": "b84a15639e9b7e8b"
  },
  {
   "metadata": {},
   "cell_type": "code",
   "source": [
    "query = \"project = CS AND status = Open\"\n",
    "response = atlassian.run(\"jira_jql\", query)\n",
    "print(response)"
   ],
   "id": "7c1cd44627a26efc",
   "outputs": [],
   "execution_count": null
  },
  {
   "metadata": {},
   "cell_type": "markdown",
   "source": [
    "### Getting Jira Functions\n",
    "\n",
    "We can list all available functions in Jira:"
   ],
   "id": "dd069eafbdc1b5fe"
  },
  {
   "metadata": {},
   "cell_type": "code",
   "source": [
    "response = atlassian.run(\"jira_get_functions\", \"\")\n",
    "print(response)"
   ],
   "id": "ef02b70aacec5cf7",
   "outputs": [],
   "execution_count": null
  },
  {
   "metadata": {},
   "cell_type": "markdown",
   "source": [
    "### Getting Parameters of a Jira Function\n",
    "\n",
    "Get parameters of a specific Jira function, for example, `create_issue`:"
   ],
   "id": "d677de7e5ee42dbf"
  },
  {
   "metadata": {},
   "cell_type": "code",
   "source": [
    "function_name = \"create_issue\"\n",
    "response = atlassian.run(\"jira_get_functions\", function_name)\n",
    "print(response)"
   ],
   "id": "c1e4dad9a2375776",
   "outputs": [],
   "execution_count": null
  },
  {
   "metadata": {},
   "cell_type": "markdown",
   "source": [
    "### Creating an Issue using Jira API Method\n",
    "\n",
    "Create an issue using a specific Jira API method with detailed fields:"
   ],
   "id": "ac040585a3ec1471"
  },
  {
   "metadata": {},
   "cell_type": "code",
   "source": [
    "import json\n",
    "\n",
    "issue_create_dict = json.dumps(\n",
    "    {\n",
    "        \"function\": \"create_issue\",\n",
    "        \"args\": [],\n",
    "        \"kwargs\": {\n",
    "            \"fields\": {\n",
    "                \"summary\": \"Automated Issue\",\n",
    "                \"description\": \"Issue created via API call\",\n",
    "                \"issuetype\": {\"name\": \"Bug\"},\n",
    "                \"project\": {\"key\": \"CS\"},\n",
    "            }\n",
    "        },\n",
    "    }\n",
    ")\n",
    "response = atlassian.run(\"jira_other\", issue_create_dict)\n",
    "print(response)"
   ],
   "id": "d990cd2483daab1",
   "outputs": [],
   "execution_count": null
  },
  {
   "metadata": {},
   "cell_type": "markdown",
   "source": [
    "### Getting Confluence Functions\n",
    "\n",
    "We can list all available functions in Confluence:"
   ],
   "id": "e3eb279153914b5"
  },
  {
   "metadata": {},
   "cell_type": "code",
   "source": [
    "response = atlassian.run(\"confluence_get_functions\", \"\")\n",
    "print(response)"
   ],
   "id": "e1c2f4749c31bed1",
   "outputs": [],
   "execution_count": null
  },
  {
   "metadata": {},
   "cell_type": "markdown",
   "source": [
    "### Getting Parameters of a Confluence Function\n",
    "\n",
    "Get parameters of a specific Confluence function, for example, `get_page_id`:"
   ],
   "id": "48802de053b0bbcc"
  },
  {
   "metadata": {},
   "cell_type": "code",
   "source": [
    "function_name = \"get_page_id\"\n",
    "response = atlassian.run(\"confluence_get_functions\", function_name)\n",
    "print(response)"
   ],
   "id": "e482c5d9c8e7af3f",
   "outputs": [],
   "execution_count": null
  },
  {
   "metadata": {},
   "cell_type": "markdown",
   "source": [
    "### Getting a Page ID using Confluence API Method\n",
    "\n",
    "Get a page ID using a specific Confluence API method:"
   ],
   "id": "995588fe2b9a376f"
  },
  {
   "metadata": {},
   "cell_type": "code",
   "source": [
    "get_page_dict = json.dumps(\n",
    "    {\n",
    "        \"function\": \"get_page_id\",\n",
    "        \"args\": [],\n",
    "        \"kwargs\": {\"space\": \"MPE\", \"title\": \"Test Page\", \"type\": \"page\"},\n",
    "    }\n",
    ")\n",
    "response = atlassian.run(\"confluence_other\", get_page_dict)\n",
    "print(response)"
   ],
   "id": "ef11e3830c7dfd6b",
   "outputs": [],
   "execution_count": null
  },
  {
   "metadata": {},
   "cell_type": "markdown",
   "source": [
    "### Running a CQL Query in Confluence\n",
    "\n",
    "Run a CQL query to fetch pages in Confluence:"
   ],
   "id": "9623115b52e1817d"
  },
  {
   "metadata": {},
   "cell_type": "code",
   "source": [
    "query = \"type=page\"\n",
    "response = atlassian.run(\"confluence_cql\", query)\n",
    "print(response)"
   ],
   "id": "e85de6e3be46db98",
   "outputs": [],
   "execution_count": null
  },
  {
   "metadata": {},
   "cell_type": "markdown",
   "source": [
    "### Applying Filters to Response\n",
    "\n",
    "Apply filters to the response data to remove sensitive information:"
   ],
   "id": "c6f0ae44adc22a19"
  },
  {
   "metadata": {},
   "cell_type": "code",
   "source": [
    "atlassian.filter_keys = [\"*password*\"]\n",
    "response = {\"username\": \"user1\", \"password\": \"secret\"}\n",
    "filtered_response = atlassian.apply_filter(response)\n",
    "print(filtered_response)"
   ],
   "id": "22c52442dc967f23",
   "outputs": [],
   "execution_count": null
  },
  {
   "metadata": {},
   "cell_type": "markdown",
   "source": [
    "## Future Integrations\n",
    "This module is extensible and will soon support new modules from the Atlassian tool suite, including:\n",
    "\n",
    "- Crowd module\n",
    "- BitBucket module\n",
    "- Bamboo module\n",
    "- Jira Service Desk module\n",
    "- Xray module\n",
    "- Cloud Admin module\n",
    "\n",
    "The Atlassian toolkit supports 100% of all functions currently available in the `atlassian-python-api` library, allowing you to extend it to all products in the Atlassian suite. For more information, see the [Atlassian Python API documentation](https://atlassian-python-api.readthedocs.io/).\n"
   ],
   "id": "12c1527adde67f7d"
  }
 ],
 "metadata": {
  "kernelspec": {
   "display_name": "Python 3",
   "language": "python",
   "name": "python3"
  },
  "language_info": {
   "codemirror_mode": {
    "name": "ipython",
    "version": 2
   },
   "file_extension": ".py",
   "mimetype": "text/x-python",
   "name": "python",
   "nbconvert_exporter": "python",
   "pygments_lexer": "ipython2",
   "version": "2.7.6"
  }
 },
 "nbformat": 4,
 "nbformat_minor": 5
}
