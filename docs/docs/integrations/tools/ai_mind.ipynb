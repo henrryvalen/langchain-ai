{
 "cells": [
  {
   "cell_type": "markdown",
   "id": "fa365009-27a8-4dcf-9472-debf6b8cc9ab",
   "metadata": {},
   "source": [
    "# MindsDB AI-Mind\n",
    "\n",
    "A `Mind` is an AI system provided by [MindsDB](https://mindsdb.com/) with built-in expertise designed to help AI agents accomplish tasks. These plug-and-play systems need little setup and can be customized for advanced use cases.\n",
    "\n",
    "Currently, `MindsDB` offers the [AI-Data Mind](https://mindscloud.ai/), which allows SQL databases to be queried in plain English, with more Minds coming soon!\n",
    "\n",
    "The `AI-Mind` tool provides access to these Minds through LangChain, allowing their capabilities to be harnessed seamlessly."
   ]
  },
  {
   "cell_type": "markdown",
   "id": "a7a626a5-24c5-41fd-8241-3e5ed6ccbf83",
   "metadata": {},
   "source": [
    "This notebook will demonstrate how to use the `AI-Data Mind` via the `AI-Mind` tool."
   ]
  },
  {
   "cell_type": "markdown",
   "id": "317bb6d0-9186-4799-83ef-bdffda84d662",
   "metadata": {},
   "source": [
    "## Setup\n",
    "\n",
    "To access Minds via the `AI-Mind` tool, you'll need to create an MindsDB account, get an API key, and install the `openai` and `mindsdb_sdk` packages."
   ]
  },
  {
   "cell_type": "markdown",
   "id": "8f9126cc-9d2a-41bc-839d-c688a7847dff",
   "metadata": {},
   "source": [
    "### Credentials\n",
    "\n",
    "Head to https://mdb.ai/ to sign up to MindsDB and generate an API key. Once you've done this set the `MINDSDB_API_KEY` environment variable:"
   ]
  },
  {
   "cell_type": "code",
   "execution_count": 1,
   "id": "0216c897-6b19-4baf-b867-25481c7ebf2b",
   "metadata": {},
   "outputs": [
    {
     "name": "stdin",
     "output_type": "stream",
     "text": [
      "Enter your MINDSDB API key:  ········\n"
     ]
    }
   ],
   "source": [
    "import getpass\n",
    "import os\n",
    "\n",
    "os.environ[\"MINDSDB_API_KEY\"] = getpass.getpass(\"Enter your MINDSDB API key: \")"
   ]
  },
  {
   "cell_type": "markdown",
   "id": "a1ed14e7-890f-4118-807f-54daaf312037",
   "metadata": {},
   "source": [
    "It is also possible to pass the key as a parameter to the tool at the point of initialization."
   ]
  },
  {
   "cell_type": "markdown",
   "id": "625cf674-9812-4bcd-85fe-0628595795e8",
   "metadata": {},
   "source": [
    "This example establishes a connection to a Postgres database, but there are [several other supported data sources](https://docs.mdb.ai/docs/data_sources) that can be used. The connection arguments expected by each data source are also listed there."
   ]
  },
  {
   "cell_type": "markdown",
   "id": "7224087f-1d09-44af-8864-6cb1f9f51818",
   "metadata": {},
   "source": [
    "You can also set your database credentials as environment variables, however, similar to the API key, these can also be directly passed to the tool.\n",
    "It is recommended to set senstive information such as password as environment variables."
   ]
  },
  {
   "cell_type": "markdown",
   "id": "d0eb08f0-f21e-448a-852b-1d15383ce661",
   "metadata": {},
   "source": [
    "> Note: Any of the above connection arguments can be set as environment variables. The structure of the name for each environment variable will be DATABASE-TYPE_DATABASE-ARGUMENT in uppercase. An example is given below:"
   ]
  },
  {
   "cell_type": "code",
   "execution_count": 2,
   "id": "38f8d603-3ca0-4be7-a089-71f38c9fddfd",
   "metadata": {},
   "outputs": [
    {
     "name": "stdin",
     "output_type": "stream",
     "text": [
      "Enter your database password:  ········\n"
     ]
    }
   ],
   "source": [
    "os.environ[\"POSTGRES_PASSWORD\"] = getpass.getpass(\"Enter your database password: \")"
   ]
  },
  {
   "cell_type": "markdown",
   "id": "d9f622ac-ef5e-44b7-b2b5-18575f801b34",
   "metadata": {},
   "source": [
    "### Installation\n",
    "\n",
    "Install `langchain-community` along with the `openai` and `mindsdb_sdk` packages:"
   ]
  },
  {
   "cell_type": "code",
   "execution_count": 3,
   "id": "5a145c30-c269-44cc-9924-634c00e7aed0",
   "metadata": {},
   "outputs": [],
   "source": [
    "%pip install --upgrade --quiet langchain-community openai mindsdb_sdk"
   ]
  },
  {
   "cell_type": "markdown",
   "id": "5eeb1155-365c-4671-8519-e5ad63c785c7",
   "metadata": {},
   "source": [
    "## Instantiation\n",
    "\n",
    "Import the `AIMindTool` and the `AIDataMindWrapper`, a wrapper around the API for interacting with the `AI-Data Mind`:"
   ]
  },
  {
   "cell_type": "code",
   "execution_count": 4,
   "id": "a6712bde-93fd-42f7-b5b1-22ec357485a8",
   "metadata": {},
   "outputs": [],
   "source": [
    "from langchain_community.tools import AIMindTool\n",
    "from langchain_community.utilities import AIDataMindWrapper"
   ]
  },
  {
   "cell_type": "markdown",
   "id": "09e07095-5097-46c4-9020-34161ab33dbe",
   "metadata": {},
   "source": [
    "Instantiate the `AIDataMindWrapper` with information regarding your database(s):"
   ]
  },
  {
   "cell_type": "code",
   "execution_count": 5,
   "id": "4b872a89-5ce0-4a30-b513-6be13295cc7a",
   "metadata": {},
   "outputs": [],
   "source": [
    "ai_data_mind_wrapper = AIDataMindWrapper(\n",
    "    data_source_configs=[\n",
    "        {\n",
    "            \"description\": \"House sales\",  # a description of the data stored in your database\n",
    "            \"type\": \"postgres\",  # the type of database to connect to\n",
    "            \"connection_args\": {\n",
    "                \"user\": \"demo_user\",\n",
    "                \"host\": \"samples.mindsdb.com\",\n",
    "                \"port\": 5432,\n",
    "                \"database\": \"demo\",\n",
    "                \"schema\": \"demo_data\",\n",
    "                # \"password\": \"demo_password\",  # if you prefer to pass password in directly instaed of using env vars\n",
    "            },\n",
    "            \"tables\": [\"house_sales\"],\n",
    "        }\n",
    "    ]\n",
    ")"
   ]
  },
  {
   "cell_type": "markdown",
   "id": "123235f4-3183-403a-b4c1-13f26a16bfc9",
   "metadata": {},
   "source": [
    "> Note: It is possible to configure multiple data sources by providing additional sets of parameters within the list for `data_source_configs`. If different data sources of the same type are being configured, it would make more sense to provide the credentials as part of this argument rather than environment variables."
   ]
  },
  {
   "cell_type": "markdown",
   "id": "639182e8-ac4a-41b2-8aa2-2d57e50096d0",
   "metadata": {},
   "source": [
    "Instantiate the `AIMindTool` by passing in the wrapper:"
   ]
  },
  {
   "cell_type": "code",
   "execution_count": 6,
   "id": "abed9879-dd3f-4f23-92b4-62cdda8c18b7",
   "metadata": {},
   "outputs": [],
   "source": [
    "ai_data_mind_tool = AIMindTool(api_wrapper=ai_data_mind_wrapper)"
   ]
  },
  {
   "cell_type": "markdown",
   "id": "556f9277-388d-4196-820d-8c7f6e1703bb",
   "metadata": {},
   "source": [
    "Note: Using a different Mind is simply matter of importing the relevant wrapper and passing it into the tool."
   ]
  },
  {
   "cell_type": "markdown",
   "id": "854cb46b-ab32-46e5-82bf-89fed0176673",
   "metadata": {},
   "source": [
    "Now, query your database in plain English:"
   ]
  },
  {
   "cell_type": "code",
   "execution_count": 7,
   "id": "745af5d3-3cf9-4e35-a31f-406d003477c8",
   "metadata": {},
   "outputs": [
    {
     "data": {
      "text/plain": [
       "'99 2 bedroom houses have been sold.'"
      ]
     },
     "execution_count": 7,
     "metadata": {},
     "output_type": "execute_result"
    }
   ],
   "source": [
    "ai_data_mind_tool.run(\"How many 2 bedroom houses have been sold?\")"
   ]
  }
 ],
 "metadata": {
  "kernelspec": {
   "display_name": "Python 3 (ipykernel)",
   "language": "python",
   "name": "python3"
  },
  "language_info": {
   "codemirror_mode": {
    "name": "ipython",
    "version": 3
   },
   "file_extension": ".py",
   "mimetype": "text/x-python",
   "name": "python",
   "nbconvert_exporter": "python",
   "pygments_lexer": "ipython3",
   "version": "3.8.19"
  }
 },
 "nbformat": 4,
 "nbformat_minor": 5
}
