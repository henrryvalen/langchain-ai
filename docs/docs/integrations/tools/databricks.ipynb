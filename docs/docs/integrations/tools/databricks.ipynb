{
 "cells": [
  {
   "cell_type": "markdown",
   "metadata": {},
   "source": [
    "# Databricks Unity Catalog (UC)\n",
    "\n",
    "This notebook shows how to use UC functions as LangChain tools, with both LangChain and LangGraph agent APIs.\n",
    "\n",
    "See Databricks documentation ([AWS](https://docs.databricks.com/en/sql/language-manual/sql-ref-syntax-ddl-create-sql-function.html)|[Azure](https://learn.microsoft.com/en-us/azure/databricks/sql/language-manual/sql-ref-syntax-ddl-create-sql-function)|[GCP](https://docs.gcp.databricks.com/en/sql/language-manual/sql-ref-syntax-ddl-create-sql-function.html)) to learn how to create SQL or Python functions in UC. Do not skip function and parameter comments, which are critical for LLMs to call functions properly.\n",
    "\n",
    "In this example notebook, we create a simple Python function that executes arbitrary code and use it as a LangChain tool:\n",
    "\n",
    "```sql\n",
    "CREATE FUNCTION main.tools.python_exec (\n",
    "  code STRING COMMENT 'Python code to execute. Remember to print the final result to stdout.'\n",
    ")\n",
    "RETURNS STRING\n",
    "LANGUAGE PYTHON\n",
    "COMMENT 'Executes Python code and returns its stdout.'\n",
    "AS $$\n",
    "  import sys\n",
    "  from io import StringIO\n",
    "  stdout = StringIO()\n",
    "  sys.stdout = stdout\n",
    "  exec(code)\n",
    "  return stdout.getvalue()\n",
    "$$\n",
    "```\n",
    "\n",
    "It runs in a secure and isolated environment within a Databricks SQL warehouse."
   ]
  },
  {
   "cell_type": "code",
   "execution_count": 7,
   "metadata": {},
   "outputs": [
    {
     "name": "stdout",
     "output_type": "stream",
     "text": [
      "Note: you may need to restart the kernel to use updated packages.\n"
     ]
    }
   ],
   "source": [
    "%pip install --upgrade --quiet databricks-sdk langchain-community langgraph mlflow"
   ]
  },
  {
   "cell_type": "code",
   "execution_count": 8,
   "metadata": {},
   "outputs": [],
   "source": [
    "from langchain_community.chat_models.databricks import ChatDatabricks\n",
    "\n",
    "llm = ChatDatabricks(endpoint=\"databricks-meta-llama-3-70b-instruct\")"
   ]
  },
  {
   "cell_type": "code",
   "execution_count": 9,
   "metadata": {},
   "outputs": [],
   "source": [
    "from langchain_community.tools.databricks import UCFunctionToolkit\n",
    "from databricks.sdk import WorkspaceClient\n",
    "\n",
    "tools = (\n",
    "    UCFunctionToolkit(\n",
    "        # You can find the SQL warehouse ID in its UI after creation.\n",
    "        warehouse_id=\"xxxx123456789\"\n",
    "    )\n",
    "    .include(\n",
    "        # Include functions as tools using their qualified names.\n",
    "        # You can use \"{catalog_name}.{schema_name}.*\" to get all functions in a schema.\n",
    "        \"main.tools.python_exec\",\n",
    "    )\n",
    "    .get_tools()\n",
    ")"
   ]
  },
  {
   "cell_type": "markdown",
   "source": [
    "## LangGraph agent example"
   ],
   "metadata": {
    "collapsed": false
   }
  },
  {
   "cell_type": "code",
   "execution_count": 10,
   "outputs": [
    {
     "data": {
      "text/plain": "{'messages': [HumanMessage(content='36939 * 8922.4', additional_kwargs={}, response_metadata={}, id='832ff875-6d78-4d0b-8ae9-b96f2a6a8b37'),\n  AIMessage(content='', additional_kwargs={'tool_calls': [{'id': 'call_bd4d4703-a8c6-404c-a3d0-cb0fdd1402d9', 'type': 'function', 'function': {'name': 'main__tools__python_exec', 'arguments': '{\"code\": \"print(36939 * 8922.4)\"}'}}]}, response_metadata={'prompt_tokens': 793, 'completion_tokens': 29, 'total_tokens': 822}, id='run-8cb7f2b1-5838-4b48-bade-6382fd48237c-0', tool_calls=[{'name': 'main__tools__python_exec', 'args': {'code': 'print(36939 * 8922.4)'}, 'id': 'call_bd4d4703-a8c6-404c-a3d0-cb0fdd1402d9', 'type': 'tool_call'}]),\n  ToolMessage(content='{\"format\": \"SCALAR\", \"value\": \"329584533.59999996\\\\n\", \"truncated\": false}', name='main__tools__python_exec', id='81ce5f26-4139-44a2-8b93-13d59ba30086', tool_call_id='call_bd4d4703-a8c6-404c-a3d0-cb0fdd1402d9'),\n  AIMessage(content='The result of the multiplication is:\\n\\n329,584,533.6', additional_kwargs={}, response_metadata={'prompt_tokens': 868, 'completion_tokens': 22, 'total_tokens': 890}, id='run-99d198e9-feeb-48fe-a3b1-bbb02e75e91d-0')]}"
     },
     "execution_count": 10,
     "metadata": {},
     "output_type": "execute_result"
    }
   ],
   "source": [
    "from langgraph.prebuilt import create_react_agent\n",
    "agent = create_react_agent(llm, tools, state_modifier=\"You are a helpful assistant. Make sure to use tool for information.\")\n",
    "agent.invoke({\"messages\": [{\"role\": \"user\", \"content\": \"36939 * 8922.4\"}]})"
   ],
   "metadata": {
    "collapsed": false
   }
  },
  {
   "cell_type": "markdown",
   "source": [
    "## LangChain agent example"
   ],
   "metadata": {
    "collapsed": false
   }
  },
  {
   "cell_type": "code",
   "execution_count": 11,
   "metadata": {},
   "outputs": [],
   "source": [
    "from langchain.agents import AgentExecutor, create_tool_calling_agent\n",
    "from langchain_core.prompts import ChatPromptTemplate\n",
    "\n",
    "prompt = ChatPromptTemplate.from_messages(\n",
    "    [\n",
    "        (\n",
    "            \"system\",\n",
    "            \"You are a helpful assistant. Make sure to use tool for information.\",\n",
    "        ),\n",
    "        (\"placeholder\", \"{chat_history}\"),\n",
    "        (\"human\", \"{input}\"),\n",
    "        (\"placeholder\", \"{agent_scratchpad}\"),\n",
    "    ]\n",
    ")\n",
    "\n",
    "agent = create_tool_calling_agent(llm, tools, prompt)"
   ]
  },
  {
   "cell_type": "code",
   "execution_count": 12,
   "metadata": {},
   "outputs": [
    {
     "name": "stderr",
     "output_type": "stream",
     "text": [
      "Error in StdOutCallbackHandler.on_chain_start callback: AttributeError(\"'NoneType' object has no attribute 'get'\")\n"
     ]
    },
    {
     "name": "stdout",
     "output_type": "stream",
     "text": [
      "\u001B[32;1m\u001B[1;3m\n",
      "Invoking: `main__tools__python_exec` with `{'code': 'print(36939 * 8922.4)'}`\n",
      "\n",
      "\n",
      "\u001B[0m\u001B[36;1m\u001B[1;3m{\"format\": \"SCALAR\", \"value\": \"329584533.59999996\\n\", \"truncated\": false}\u001B[0m\u001B[32;1m\u001B[1;3mThe result of the multiplication is:\n",
      "\n",
      "329,584,533.6\u001B[0m\n",
      "\n",
      "\u001B[1m> Finished chain.\u001B[0m\n"
     ]
    },
    {
     "data": {
      "text/plain": "{'input': '36939 * 8922.4',\n 'output': 'The result of the multiplication is:\\n\\n329,584,533.6'}"
     },
     "execution_count": 12,
     "metadata": {},
     "output_type": "execute_result"
    }
   ],
   "source": [
    "agent_executor = AgentExecutor(agent=agent, tools=tools, verbose=True)\n",
    "agent_executor.invoke({\"input\": \"36939 * 8922.4\"})"
   ]
  },
  {
   "cell_type": "code",
   "execution_count": 12,
   "metadata": {},
   "outputs": [],
   "source": []
  }
 ],
 "metadata": {
  "kernelspec": {
   "display_name": "llm",
   "language": "python",
   "name": "python3"
  },
  "language_info": {
   "codemirror_mode": {
    "name": "ipython",
    "version": 3
   },
   "file_extension": ".py",
   "mimetype": "text/x-python",
   "name": "python",
   "nbconvert_exporter": "python",
   "pygments_lexer": "ipython3",
   "version": "3.11.9"
  }
 },
 "nbformat": 4,
 "nbformat_minor": 2
}
