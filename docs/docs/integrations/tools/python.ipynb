{
 "cells": [
  {
   "cell_type": "markdown",
   "id": "984a8fca",
   "metadata": {},
   "source": [
    "# Python REPL\n",
    "\n",
    "Sometimes, for complex calculations, rather than have an LLM generate the answer directly, it can be better to have the LLM generate code to calculate the answer, and then run that code to get the answer. In order to easily do that, we provide a simple Python REPL to execute commands in.\n",
    "\n",
    "This interface will only return things that are printed - therefore, if you want to use it to calculate an answer, make sure to have it print out the answer.\n",
    "\n",
    "\n",
    ":::{.callout-caution}\n",
    "Python REPL can execute arbitrary code on the host machine (e.g., delete files, make network requests). Use with caution.\n",
    "\n",
    "For more information general security guidelines, please see https://python.langchain.com/docs/security/.\n",
    ":::"
   ]
  },
  {
   "cell_type": "code",
   "execution_count": 2,
   "outputs": [
    {
     "name": "stdout",
     "output_type": "stream",
     "text": [
      "Note: you may need to restart the kernel to use updated packages.\n"
     ]
    }
   ],
   "source": [
    "%pip install -q langchain_experimental"
   ],
   "metadata": {
    "collapsed": false,
    "ExecuteTime": {
     "end_time": "2024-06-30T03:34:35.863825Z",
     "start_time": "2024-06-30T03:34:34.526289Z"
    }
   },
   "id": "c0d9ca0cdde82868"
  },
  {
   "cell_type": "code",
   "execution_count": 3,
   "id": "0196a12d-f716-4622-84e4-86fc27fa797c",
   "metadata": {
    "ExecuteTime": {
     "end_time": "2024-06-30T03:34:41.312993Z",
     "start_time": "2024-06-30T03:34:41.051528Z"
    }
   },
   "outputs": [],
   "source": [
    "from langchain_core.tools import Tool\n",
    "from langchain_experimental.utilities import PythonREPL"
   ]
  },
  {
   "cell_type": "code",
   "execution_count": 4,
   "id": "b4058942-c31f-45c6-8bb7-30402f6cc193",
   "metadata": {
    "ExecuteTime": {
     "end_time": "2024-06-30T03:34:42.003614Z",
     "start_time": "2024-06-30T03:34:42.001046Z"
    }
   },
   "outputs": [],
   "source": [
    "python_repl = PythonREPL()"
   ]
  },
  {
   "cell_type": "code",
   "execution_count": 5,
   "id": "b1bcfa15-ff35-49bf-a986-c40eec3b65fb",
   "metadata": {
    "ExecuteTime": {
     "end_time": "2024-06-30T03:34:44.459250Z",
     "start_time": "2024-06-30T03:34:44.428991Z"
    }
   },
   "outputs": [
    {
     "name": "stderr",
     "output_type": "stream",
     "text": [
      "Python REPL can execute arbitrary code. Use with caution.\n"
     ]
    },
    {
     "data": {
      "text/plain": "'2\\n'"
     },
     "execution_count": 5,
     "metadata": {},
     "output_type": "execute_result"
    }
   ],
   "source": [
    "python_repl.run(\"print(1+1)\")"
   ]
  },
  {
   "cell_type": "code",
   "execution_count": 6,
   "id": "488542d8-5566-4f28-aaf7-b28a3373ab62",
   "metadata": {
    "tags": [],
    "ExecuteTime": {
     "end_time": "2024-06-30T03:34:48.664529Z",
     "start_time": "2024-06-30T03:34:48.650210Z"
    }
   },
   "outputs": [],
   "source": [
    "# You can create the tool to pass to an agent\n",
    "repl_tool = Tool(\n",
    "    name=\"python_repl\",\n",
    "    description=\"A Python shell. Use this to execute python commands. Input should be a valid python command. If you want to see the output of a value, you should print it out with `print(...)`.\",\n",
    "    func=python_repl.run,\n",
    ")"
   ]
  },
  {
   "cell_type": "markdown",
   "source": [
    "## Example Usage with LLM"
   ],
   "metadata": {
    "collapsed": false
   },
   "id": "52ef95ba80094e1c"
  },
  {
   "cell_type": "markdown",
   "source": [
    "### Setting Up environment"
   ],
   "metadata": {
    "collapsed": false
   },
   "id": "18dc15fae76aef36"
  },
  {
   "cell_type": "code",
   "execution_count": 8,
   "outputs": [],
   "source": [
    "import getpass\n",
    "import os\n",
    "\n",
    "def _set_env(var: str):\n",
    "    if not os.environ.get(var):\n",
    "        os.environ[var] = getpass.getpass(f\"{var}: \")\n",
    "\n",
    "_set_env(\"OPENAI_API_KEY\")"
   ],
   "metadata": {
    "collapsed": false,
    "ExecuteTime": {
     "end_time": "2024-06-30T03:38:48.622209Z",
     "start_time": "2024-06-30T03:38:48.619120Z"
    }
   },
   "id": "2cf9536eb91f404"
  },
  {
   "cell_type": "markdown",
   "source": [
    "(Recommended) Setting up LangSmith Trace"
   ],
   "metadata": {
    "collapsed": false
   },
   "id": "d024199b03e50a23"
  },
  {
   "cell_type": "code",
   "execution_count": 9,
   "outputs": [],
   "source": [
    "_set_env(\"LANGSMITH_API_KEY\")\n",
    "os.environ[\"LANGCHAIN_TRACING_V2\"] = \"true\""
   ],
   "metadata": {
    "collapsed": false,
    "ExecuteTime": {
     "end_time": "2024-06-30T03:38:52.655076Z",
     "start_time": "2024-06-30T03:38:52.645158Z"
    }
   },
   "id": "d9dd9673848a132d"
  },
  {
   "cell_type": "markdown",
   "source": [
    "### Creating an Agent with Python REPL tool"
   ],
   "metadata": {
    "collapsed": false
   },
   "id": "70f105179b1eba95"
  },
  {
   "cell_type": "code",
   "execution_count": 10,
   "outputs": [],
   "source": [
    "from langchain_openai import ChatOpenAI\n",
    "from langchain_core.messages import HumanMessage, SystemMessage\n",
    "\n",
    "model = ChatOpenAI(model=\"gpt-4\")"
   ],
   "metadata": {
    "collapsed": false,
    "ExecuteTime": {
     "end_time": "2024-06-30T03:40:32.716218Z",
     "start_time": "2024-06-30T03:40:32.345311Z"
    }
   },
   "id": "de22a9d2c9a3f4d2"
  },
  {
   "cell_type": "markdown",
   "source": [
    "Now, let's bind the python REPL tool defined above to the llm"
   ],
   "metadata": {
    "collapsed": false
   },
   "id": "75c70a2b5ae6b012"
  },
  {
   "cell_type": "code",
   "execution_count": 15,
   "outputs": [],
   "source": [
    "from langgraph.prebuilt import create_react_agent\n",
    "\n",
    "tools = [repl_tool]\n",
    "\n",
    "agent_executor = create_react_agent(model, tools)"
   ],
   "metadata": {
    "collapsed": false,
    "ExecuteTime": {
     "end_time": "2024-06-30T03:44:04.824106Z",
     "start_time": "2024-06-30T03:44:04.822127Z"
    }
   },
   "id": "536f88e30992a3e"
  },
  {
   "cell_type": "markdown",
   "source": [
    "Now let's try to solve an SAT math exam problem with our agent"
   ],
   "metadata": {
    "collapsed": false
   },
   "id": "24a0948bc198bfc"
  },
  {
   "cell_type": "code",
   "execution_count": 22,
   "outputs": [
    {
     "data": {
      "text/plain": "[SystemMessage(content='\\nYou are a helpful assistant who performs accurate mathematical calculators. When asked a question, first reason through the question step by step, then follow the reasoning to solve the question. When you need to perform a mathematical operation, call the provided tools. ', id='01490f4f-494c-4f67-a423-b177db3458c8'),\n HumanMessage(content='\\nIf f(x) = 2x 2 + 4 for all real numbers x , what is the value of f(3) + f(5)?\\n', id='04f1e4ec-4010-48b4-86d7-d17e4bf8aa28'),\n AIMessage(content=\"To solve this, we need to substitute x = 3 and x = 5 into the function f(x) = 2x^2 + 4, compute the values, and then add them together.\\n\\nLet's start by calculating f(3). We substitute x = 3 into the function, which gives us 2*3^2 + 4.\\n\\nThen we'll calculate f(5) by substituting x = 5 into the function, giving us 2*5^2 + 4.\\n\\nFinally, we add these two results together to get the final answer. \\n\\nLet's perform these calculations now.\", additional_kwargs={'tool_calls': [{'id': 'call_3rUsBVXtYwd4xVawnhDKf2gz', 'function': {'arguments': '{\\n  \"__arg1\": \"f_3 = 2 * (3**2) + 4; f_5 = 2 * (5**2) + 4; result = f_3 + f_5; print(result)\"\\n}', 'name': 'python_repl'}, 'type': 'function'}]}, response_metadata={'token_usage': {'completion_tokens': 189, 'prompt_tokens': 167, 'total_tokens': 356}, 'model_name': 'gpt-4-0613', 'system_fingerprint': None, 'finish_reason': 'tool_calls', 'logprobs': None}, id='run-17c617bb-016e-46a8-be36-9bde8195830c-0', tool_calls=[{'name': 'python_repl', 'args': {'__arg1': 'f_3 = 2 * (3**2) + 4; f_5 = 2 * (5**2) + 4; result = f_3 + f_5; print(result)'}, 'id': 'call_3rUsBVXtYwd4xVawnhDKf2gz'}], usage_metadata={'input_tokens': 167, 'output_tokens': 189, 'total_tokens': 356}),\n ToolMessage(content='76\\n', name='python_repl', id='c8bb23fc-6ddf-49df-8607-a98a1814dc76', tool_call_id='call_3rUsBVXtYwd4xVawnhDKf2gz'),\n AIMessage(content='The value of f(3) + f(5) is 76.', response_metadata={'token_usage': {'completion_tokens': 17, 'prompt_tokens': 369, 'total_tokens': 386}, 'model_name': 'gpt-4-0613', 'system_fingerprint': None, 'finish_reason': 'stop', 'logprobs': None}, id='run-1dac5105-5564-42d1-ac2d-4452f65e5bad-0', usage_metadata={'input_tokens': 369, 'output_tokens': 17, 'total_tokens': 386})]"
     },
     "execution_count": 22,
     "metadata": {},
     "output_type": "execute_result"
    }
   ],
   "source": [
    "system_instruction = \"\"\"\n",
    "You are a helpful assistant who performs accurate mathematical calculators. When asked a question, first reason through the question step by step, then follow the reasoning to solve the question. When you need to perform a mathematical operation, call the provided tools. \"\"\"\n",
    "\n",
    "question = \"\"\"\n",
    "If f(x) = 2x 2 + 4 for all real numbers x , what is the value of f(3) + f(5)?\n",
    "\"\"\"\n",
    "\n",
    "response = agent_executor.invoke(\n",
    "    {\"messages\": [SystemMessage(content=system_instruction),\n",
    "                  HumanMessage(content=question)]}\n",
    ")\n",
    "response[\"messages\"][-1].content"
   ],
   "metadata": {
    "collapsed": false,
    "ExecuteTime": {
     "end_time": "2024-06-30T03:57:03.769953Z",
     "start_time": "2024-06-30T03:56:55.440153Z"
    }
   },
   "id": "867fa88cb158aae8"
  },
  {
   "cell_type": "markdown",
   "source": [
    "The complete reasoning step:"
   ],
   "metadata": {
    "collapsed": false
   },
   "id": "280d9cabdb71777d"
  },
  {
   "cell_type": "code",
   "execution_count": 30,
   "outputs": [
    {
     "name": "stdout",
     "output_type": "stream",
     "text": [
      "\n",
      "You are a helpful assistant who performs accurate mathematical calculators. When asked a question, first reason through the question step by step, then follow the reasoning to solve the question. When you need to perform a mathematical operation, call the provided tools. \n",
      "--------------------------------------------------------------------------------\n",
      "\n",
      "If f(x) = 2x 2 + 4 for all real numbers x , what is the value of f(3) + f(5)?\n",
      "\n",
      "--------------------------------------------------------------------------------\n",
      "To solve this, we need to substitute x = 3 and x = 5 into the function f(x) = 2x^2 + 4, compute the values, and then add them together.\n",
      "\n",
      "Let's start by calculating f(3). We substitute x = 3 into the function, which gives us 2*3^2 + 4.\n",
      "\n",
      "Then we'll calculate f(5) by substituting x = 5 into the function, giving us 2*5^2 + 4.\n",
      "\n",
      "Finally, we add these two results together to get the final answer. \n",
      "\n",
      "Let's perform these calculations now.\n",
      "--------------------------------------------------------------------------------\n",
      "76\n",
      "\n",
      "--------------------------------------------------------------------------------\n",
      "The value of f(3) + f(5) is 76.\n",
      "--------------------------------------------------------------------------------\n"
     ]
    }
   ],
   "source": [
    "from langchain_core.output_parsers import StrOutputParser\n",
    "for message in response[\"messages\"]:\n",
    "    print(StrOutputParser().invoke(message))\n",
    "    print('-'*80)"
   ],
   "metadata": {
    "collapsed": false,
    "ExecuteTime": {
     "end_time": "2024-06-30T04:00:06.624399Z",
     "start_time": "2024-06-30T04:00:06.615585Z"
    }
   },
   "id": "1692377c263f03f1"
  },
  {
   "cell_type": "code",
   "execution_count": null,
   "outputs": [],
   "source": [],
   "metadata": {
    "collapsed": false
   },
   "id": "1c72653f231979e8"
  }
 ],
 "metadata": {
  "kernelspec": {
   "display_name": "Python 3 (ipykernel)",
   "language": "python",
   "name": "python3"
  },
  "language_info": {
   "codemirror_mode": {
    "name": "ipython",
    "version": 3
   },
   "file_extension": ".py",
   "mimetype": "text/x-python",
   "name": "python",
   "nbconvert_exporter": "python",
   "pygments_lexer": "ipython3",
   "version": "3.11.4"
  }
 },
 "nbformat": 4,
 "nbformat_minor": 5
}
